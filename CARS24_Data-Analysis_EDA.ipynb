{
 "cells": [
  {
   "cell_type": "code",
   "execution_count": 9,
   "id": "d7d638ee-39f0-4080-9aa9-d0389b05cc62",
   "metadata": {},
   "outputs": [],
   "source": [
    "Cars = ['maruti-suzuki/','hyundai/','tata/','mahindra/','toyota/','kia/','honda/','mg/','renault/','volkswagen/','skoda/','nissan/','citroen/','jeep/','aston-martin/','audi/','bentley/','bmw/','byd/','ferrari/','force/','ford/','isuzu/','jaguar/','lamborghini/','land-rover/','lexus/','lotus/','maserati/','mclaren/','mercedes-benz/','mini/','ola-electric/','porsche/','rolls-royce/','strom-motors/','tesla/','vinfast/','volvo/','xiaomi/']"
   ]
  },
  {
   "cell_type": "markdown",
   "id": "cc46419f-fea2-4507-acb5-f01319eff2d9",
   "metadata": {},
   "source": [
    "### Some of the Required libraries."
   ]
  },
  {
   "cell_type": "code",
   "execution_count": 10,
   "id": "69a5c141-d7a7-433a-8d3b-2d21d16bae70",
   "metadata": {},
   "outputs": [],
   "source": [
    "import requests"
   ]
  },
  {
   "cell_type": "code",
   "execution_count": 14,
   "id": "80955ddb-df7e-4bd6-b356-d6177e4398e8",
   "metadata": {},
   "outputs": [],
   "source": [
    "from bs4 import BeautifulSoup"
   ]
  },
  {
   "cell_type": "code",
   "execution_count": null,
   "id": "1d1480d4-fe28-4553-8b7c-29a6765aa9cf",
   "metadata": {},
   "outputs": [],
   "source": [
    "import re"
   ]
  },
  {
   "cell_type": "code",
   "execution_count": null,
   "id": "91125f6c-cfaf-4ac6-8180-1ba16546eb1a",
   "metadata": {},
   "outputs": [],
   "source": [
    "import numpy as np"
   ]
  },
  {
   "cell_type": "code",
   "execution_count": null,
   "id": "40f6e828-0776-486a-89dc-930ba5a93e23",
   "metadata": {},
   "outputs": [],
   "source": [
    "import pandas as pd"
   ]
  },
  {
   "cell_type": "markdown",
   "id": "7b41dc15-e974-4c5f-b384-3ef06c45fb1c",
   "metadata": {},
   "source": [
    "### Requests is the Basic library that is used for Webscraping."
   ]
  },
  {
   "cell_type": "code",
   "execution_count": null,
   "id": "0d873417-13ea-46f6-a4e6-3f968ff8af9f",
   "metadata": {},
   "outputs": [
    {
     "name": "stdout",
     "output_type": "stream",
     "text": [
      "<Response [200]>\n"
     ]
    }
   ],
   "source": [
    "url = \"https://www.cars24.com/new-cars/\"\n",
    "headers = {\n",
    "    'User -Agent': 'Chrome/131.0.6778.71',\n",
    "    'Referer' : \"https://www.amazon.in\"\n",
    "\n",
    "}\n",
    "url_page = requests.get(url,headers)\n",
    "print(url_page)"
   ]
  },
  {
   "cell_type": "markdown",
   "id": "460350c4-9516-4893-88ec-9af3f11c3901",
   "metadata": {},
   "source": [
    "### BeautifulSoup is the popular library that is used for extract information from html code."
   ]
  },
  {
   "cell_type": "code",
   "execution_count": null,
   "id": "98c8ea59-846f-4a4b-802a-2c5d39617df7",
   "metadata": {},
   "outputs": [],
   "source": [
    "Cars_info = BeautifulSoup(url_page.text)\n",
    "#print(Cars_info)"
   ]
  },
  {
   "cell_type": "markdown",
   "id": "bdf907ad-47a9-4125-a872-3e0c86a6d1fb",
   "metadata": {},
   "source": [
    "### Extract information from html code."
   ]
  },
  {
   "cell_type": "code",
   "execution_count": null,
   "id": "95d3dbf0-a23d-42d0-99a8-796e1e3bd44a",
   "metadata": {},
   "outputs": [],
   "source": [
    "Name = []\n",
    "Model = []\n",
    "Extra_features = []\n",
    "Seater = []\n",
    "Fuel_type = []\n",
    "Safety = []\n",
    "Price = []\n",
    "Mileage = []\n",
    "for j in range(10):\n",
    "    for i in Cars:\n",
    "        url_eachcar = f\"https://www.cars24.com/new-cars/{i}\"\n",
    "        #print(url_eachcar)\n",
    "        headers = {\n",
    "        'User -Agent': 'Chrome/131.0.6778.71',\n",
    "        'Referer' : \"https://www.amazon.in\"\n",
    "    \n",
    "        }\n",
    "        url_page_eachcar = requests.get(url_eachcar,headers)\n",
    "        #print(url_page_eachcar)\n",
    "        \n",
    "        eachcar_info = BeautifulSoup(url_page_eachcar.text)\n",
    "        #print(eachcar_info)\n",
    "        for i in eachcar_info.find_all(\"div\",class_=\"makePage_grid-container__nrz3f flex flex-wrap\"):\n",
    "            #print(i)\n",
    "            cars_info = i.find(\"div\",\"makePage_grid-item__GwMAH flex-col items-center flex\").text\n",
    "            #print(cars_info)\n",
    "            name = eachcar_info.find(\"h2\",\"font-medium text-nobleGrey text-base\").text\n",
    "            if name:\n",
    "                Name.append(name)\n",
    "                #print(name)\n",
    "            else:\n",
    "                Name.append(np.nan)\n",
    "            price = re.findall(\"\\\\₹\\\\s(\\\\d+\\\\.\\\\d+L)\\\\s\\\\-\\\\s(\\\\d+\\\\.\\\\d+L)\",cars_info)\n",
    "            if price:\n",
    "                Price.append(price[0])\n",
    "                #print(price)\n",
    "            else:\n",
    "                Price.append(np.nan)\n",
    "            safety = re.findall(\"\\\\*\\\\d+\\\\s\\\\Safety\",cars_info)\n",
    "            if safety:\n",
    "                Safety.append(safety[0])\n",
    "                #print(safety)\n",
    "            else:\n",
    "                Safety.append(np.nan)\n",
    "            fuel_type = re.findall(\"\\\\Safety(.+)\\\\,\\\\s(.+)\\\\sFuel Type\",cars_info)\n",
    "            if fuel_type:\n",
    "                Fuel_type.append(fuel_type[0])\n",
    "                #print(fuel_type)\n",
    "            else:\n",
    "                Fuel_type.append(np.nan)\n",
    "            seater = re.findall(\"\\\\d+\\\\s\\\\Seater\",cars_info)\n",
    "            if seater:\n",
    "                Seater.append(seater[0])\n",
    "            else:\n",
    "                Seater.append(np.nan)\n",
    "            model = eachcar_info.find(\"span\",\"font-medium text-[18px] flex text-black text-nowrap\").text\n",
    "            if model:\n",
    "                #print(model)\n",
    "                Model.append(model)\n",
    "            else:\n",
    "                Model.append(np.nan)\n",
    "            mileage = re.findall(\"\\\\d+\\\\-\\\\d+\\\\skm/lMileage\",cars_info)\n",
    "            if mileage:\n",
    "                Mileage.append(mileage)\n",
    "                #print(mileage)\n",
    "            else:\n",
    "                Mileage.append(np.nan)\n",
    "            extra_features = eachcar_info.find(\"a\",\"key-specs block px-5 pt-5 pb-3 min-h-28\").text\n",
    "            if extra_features:\n",
    "                #print(extra_features)\n",
    "                Extra_features.append(extra_features)\n",
    "            else:\n",
    "                Extra_features.append(np.nan)\n",
    "#length of each column\n",
    "#print(len(Name))\n",
    "#print(len(Model))\n",
    "#print(len(Extra_features))\n",
    "#print(len(Seater))\n",
    "#print(len(Fuel_type))\n",
    "#print(len(Safety))\n",
    "#print(len(Price))\n",
    "#print(len(Mileage))"
   ]
  },
  {
   "cell_type": "markdown",
   "id": "f4a4afe6-07bb-47b2-93c9-0b4a08ea696f",
   "metadata": {},
   "source": [
    "### Creating DataFrame"
   ]
  },
  {
   "cell_type": "code",
   "execution_count": null,
   "id": "30e9303e-64fc-41a5-910f-678172d38e00",
   "metadata": {},
   "outputs": [
    {
     "data": {
      "text/html": [
       "<div>\n",
       "<style scoped>\n",
       "    .dataframe tbody tr th:only-of-type {\n",
       "        vertical-align: middle;\n",
       "    }\n",
       "\n",
       "    .dataframe tbody tr th {\n",
       "        vertical-align: top;\n",
       "    }\n",
       "\n",
       "    .dataframe thead th {\n",
       "        text-align: right;\n",
       "    }\n",
       "</style>\n",
       "<table border=\"1\" class=\"dataframe\">\n",
       "  <thead>\n",
       "    <tr style=\"text-align: right;\">\n",
       "      <th></th>\n",
       "      <th>Name</th>\n",
       "      <th>Model</th>\n",
       "      <th>Extra_features</th>\n",
       "      <th>Seater</th>\n",
       "      <th>Fuel_type</th>\n",
       "      <th>Safety</th>\n",
       "      <th>Price</th>\n",
       "      <th>Mileage</th>\n",
       "    </tr>\n",
       "  </thead>\n",
       "  <tbody>\n",
       "    <tr>\n",
       "      <th>0</th>\n",
       "      <td>Maruti Suzuki Alto K10</td>\n",
       "      <td>Alto K10</td>\n",
       "      <td>Affordable hatchbackPopular choice in the hatc...</td>\n",
       "      <td>5 Seater</td>\n",
       "      <td>(CNG, Petrol)</td>\n",
       "      <td>*2 Safety</td>\n",
       "      <td>(4.0L, 6.0L)</td>\n",
       "      <td>NaN</td>\n",
       "    </tr>\n",
       "    <tr>\n",
       "      <th>1</th>\n",
       "      <td>Hyundai Grand i10 Nios</td>\n",
       "      <td>Grand i10 Nios</td>\n",
       "      <td>Fun &amp; sporty hatchbackSpacious cabinFeature-ri...</td>\n",
       "      <td>5 Seater</td>\n",
       "      <td>(CNG, Petrol)</td>\n",
       "      <td>*2 Safety</td>\n",
       "      <td>(5.9L, 8.6L)</td>\n",
       "      <td>NaN</td>\n",
       "    </tr>\n",
       "  </tbody>\n",
       "</table>\n",
       "</div>"
      ],
      "text/plain": [
       "                      Name            Model  \\\n",
       "0   Maruti Suzuki Alto K10         Alto K10   \n",
       "1   Hyundai Grand i10 Nios   Grand i10 Nios   \n",
       "\n",
       "                                      Extra_features    Seater      Fuel_type  \\\n",
       "0  Affordable hatchbackPopular choice in the hatc...  5 Seater  (CNG, Petrol)   \n",
       "1  Fun & sporty hatchbackSpacious cabinFeature-ri...  5 Seater  (CNG, Petrol)   \n",
       "\n",
       "      Safety         Price Mileage  \n",
       "0  *2 Safety  (4.0L, 6.0L)     NaN  \n",
       "1  *2 Safety  (5.9L, 8.6L)     NaN  "
      ]
     },
     "execution_count": 27,
     "metadata": {},
     "output_type": "execute_result"
    }
   ],
   "source": [
    "Cars_dict = {\"Name\":Name,\n",
    "             \"Model\":Model,\n",
    "             \"Extra_features\":Extra_features,\n",
    "             \"Seater\":Seater,\n",
    "             \"Fuel_type\":Fuel_type,\n",
    "             \"Safety\":Safety,\n",
    "             \"Price\":Price,\n",
    "             \"Mileage\":Mileage}\n",
    "Cars_df = pd.DataFrame(Cars_dict)\n",
    "Cars_df.head(2)"
   ]
  },
  {
   "cell_type": "markdown",
   "id": "a9327031-f9ba-403d-966b-9f14f9b3902d",
   "metadata": {},
   "source": [
    "### Replacing NaN values with Zero."
   ]
  },
  {
   "cell_type": "code",
   "execution_count": null,
   "id": "66f3a6d2-cb69-4420-811f-b592a1d23153",
   "metadata": {},
   "outputs": [],
   "source": [
    "Cars_df.fillna(value = 0,inplace=True)"
   ]
  },
  {
   "cell_type": "markdown",
   "id": "45d81f34-3696-4e4b-8f40-31c1d58a9638",
   "metadata": {},
   "source": [
    "### Checking the sum of NaN values."
   ]
  },
  {
   "cell_type": "code",
   "execution_count": null,
   "id": "6f0e026d-7879-45be-be31-9c1b89093115",
   "metadata": {},
   "outputs": [
    {
     "data": {
      "text/plain": [
       "Name              0\n",
       "Model             0\n",
       "Extra_features    0\n",
       "Seater            0\n",
       "Fuel_type         0\n",
       "Safety            0\n",
       "Price             0\n",
       "Mileage           0\n",
       "dtype: int64"
      ]
     },
     "execution_count": 33,
     "metadata": {},
     "output_type": "execute_result"
    }
   ],
   "source": [
    "Cars_df.isna().sum()"
   ]
  },
  {
   "cell_type": "code",
   "execution_count": null,
   "id": "c79c0290-6b27-43ee-b5f1-9aead4289b71",
   "metadata": {},
   "outputs": [
    {
     "name": "stdout",
     "output_type": "stream",
     "text": [
      "400\n"
     ]
    }
   ],
   "source": [
    "print(len(Cars_df))"
   ]
  },
  {
   "cell_type": "code",
   "execution_count": null,
   "id": "e260c831-5573-4f41-94b8-6d4d39f6285e",
   "metadata": {},
   "outputs": [
    {
     "data": {
      "text/html": [
       "<div>\n",
       "<style scoped>\n",
       "    .dataframe tbody tr th:only-of-type {\n",
       "        vertical-align: middle;\n",
       "    }\n",
       "\n",
       "    .dataframe tbody tr th {\n",
       "        vertical-align: top;\n",
       "    }\n",
       "\n",
       "    .dataframe thead th {\n",
       "        text-align: right;\n",
       "    }\n",
       "</style>\n",
       "<table border=\"1\" class=\"dataframe\">\n",
       "  <thead>\n",
       "    <tr style=\"text-align: right;\">\n",
       "      <th></th>\n",
       "      <th>Name</th>\n",
       "      <th>Model</th>\n",
       "      <th>Extra_features</th>\n",
       "      <th>Seater</th>\n",
       "      <th>Fuel_type</th>\n",
       "      <th>Safety</th>\n",
       "      <th>Price</th>\n",
       "      <th>Mileage</th>\n",
       "    </tr>\n",
       "  </thead>\n",
       "  <tbody>\n",
       "    <tr>\n",
       "      <th>0</th>\n",
       "      <td>Maruti Suzuki Alto K10</td>\n",
       "      <td>Alto K10</td>\n",
       "      <td>Affordable hatchbackPopular choice in the hatc...</td>\n",
       "      <td>5 Seater</td>\n",
       "      <td>(CNG, Petrol)</td>\n",
       "      <td>*2 Safety</td>\n",
       "      <td>(4.0L, 6.0L)</td>\n",
       "      <td>0</td>\n",
       "    </tr>\n",
       "    <tr>\n",
       "      <th>1</th>\n",
       "      <td>Hyundai Grand i10 Nios</td>\n",
       "      <td>Grand i10 Nios</td>\n",
       "      <td>Fun &amp; sporty hatchbackSpacious cabinFeature-ri...</td>\n",
       "      <td>5 Seater</td>\n",
       "      <td>(CNG, Petrol)</td>\n",
       "      <td>*2 Safety</td>\n",
       "      <td>(5.9L, 8.6L)</td>\n",
       "      <td>0</td>\n",
       "    </tr>\n",
       "  </tbody>\n",
       "</table>\n",
       "</div>"
      ],
      "text/plain": [
       "                      Name            Model  \\\n",
       "0   Maruti Suzuki Alto K10         Alto K10   \n",
       "1   Hyundai Grand i10 Nios   Grand i10 Nios   \n",
       "\n",
       "                                      Extra_features    Seater      Fuel_type  \\\n",
       "0  Affordable hatchbackPopular choice in the hatc...  5 Seater  (CNG, Petrol)   \n",
       "1  Fun & sporty hatchbackSpacious cabinFeature-ri...  5 Seater  (CNG, Petrol)   \n",
       "\n",
       "      Safety         Price Mileage  \n",
       "0  *2 Safety  (4.0L, 6.0L)       0  \n",
       "1  *2 Safety  (5.9L, 8.6L)       0  "
      ]
     },
     "execution_count": 37,
     "metadata": {},
     "output_type": "execute_result"
    }
   ],
   "source": [
    "Cars_df.head(2)"
   ]
  },
  {
   "cell_type": "code",
   "execution_count": null,
   "id": "1203ad37-1d32-4850-be34-3ec8fdb611ab",
   "metadata": {},
   "outputs": [],
   "source": [
    "Cars_df['Seater']=Cars_df['Seater'].apply(lambda x: x.replace(\"Seater\",\"\") if isinstance(x, str) else x).astype(int)"
   ]
  },
  {
   "cell_type": "code",
   "execution_count": null,
   "id": "ee3d7a1b-08de-4828-ba62-1ba0ff68bc8d",
   "metadata": {},
   "outputs": [
    {
     "data": {
      "text/html": [
       "<div>\n",
       "<style scoped>\n",
       "    .dataframe tbody tr th:only-of-type {\n",
       "        vertical-align: middle;\n",
       "    }\n",
       "\n",
       "    .dataframe tbody tr th {\n",
       "        vertical-align: top;\n",
       "    }\n",
       "\n",
       "    .dataframe thead th {\n",
       "        text-align: right;\n",
       "    }\n",
       "</style>\n",
       "<table border=\"1\" class=\"dataframe\">\n",
       "  <thead>\n",
       "    <tr style=\"text-align: right;\">\n",
       "      <th></th>\n",
       "      <th>Name</th>\n",
       "      <th>Model</th>\n",
       "      <th>Extra_features</th>\n",
       "      <th>Seater</th>\n",
       "      <th>Fuel_type</th>\n",
       "      <th>Safety</th>\n",
       "      <th>Price</th>\n",
       "      <th>Mileage</th>\n",
       "    </tr>\n",
       "  </thead>\n",
       "  <tbody>\n",
       "    <tr>\n",
       "      <th>0</th>\n",
       "      <td>Maruti Suzuki Alto K10</td>\n",
       "      <td>Alto K10</td>\n",
       "      <td>Affordable hatchbackPopular choice in the hatc...</td>\n",
       "      <td>5</td>\n",
       "      <td>(CNG, Petrol)</td>\n",
       "      <td>*2 Safety</td>\n",
       "      <td>(4.0L, 6.0L)</td>\n",
       "      <td>0</td>\n",
       "    </tr>\n",
       "    <tr>\n",
       "      <th>1</th>\n",
       "      <td>Hyundai Grand i10 Nios</td>\n",
       "      <td>Grand i10 Nios</td>\n",
       "      <td>Fun &amp; sporty hatchbackSpacious cabinFeature-ri...</td>\n",
       "      <td>5</td>\n",
       "      <td>(CNG, Petrol)</td>\n",
       "      <td>*2 Safety</td>\n",
       "      <td>(5.9L, 8.6L)</td>\n",
       "      <td>0</td>\n",
       "    </tr>\n",
       "  </tbody>\n",
       "</table>\n",
       "</div>"
      ],
      "text/plain": [
       "                      Name            Model  \\\n",
       "0   Maruti Suzuki Alto K10         Alto K10   \n",
       "1   Hyundai Grand i10 Nios   Grand i10 Nios   \n",
       "\n",
       "                                      Extra_features  Seater      Fuel_type  \\\n",
       "0  Affordable hatchbackPopular choice in the hatc...       5  (CNG, Petrol)   \n",
       "1  Fun & sporty hatchbackSpacious cabinFeature-ri...       5  (CNG, Petrol)   \n",
       "\n",
       "      Safety         Price Mileage  \n",
       "0  *2 Safety  (4.0L, 6.0L)       0  \n",
       "1  *2 Safety  (5.9L, 8.6L)       0  "
      ]
     },
     "execution_count": 41,
     "metadata": {},
     "output_type": "execute_result"
    }
   ],
   "source": [
    "Cars_df.head(2)"
   ]
  },
  {
   "cell_type": "markdown",
   "id": "0b84da44-eb08-434a-9c90-b2e34afcd861",
   "metadata": {},
   "source": [
    "### Filtering the Data"
   ]
  },
  {
   "cell_type": "code",
   "execution_count": null,
   "id": "78048f88-642e-4d4a-901b-14fff1c9e00b",
   "metadata": {},
   "outputs": [],
   "source": [
    "import re"
   ]
  },
  {
   "cell_type": "code",
   "execution_count": null,
   "id": "8b1d321a-ba41-424a-b71c-57f5d266cbfc",
   "metadata": {},
   "outputs": [],
   "source": [
    "new = []\n",
    "for j in range(len(Cars_df)):\n",
    "    input_string = str(Cars_df['Price'][j])\n",
    "    prices = re.findall(r'(\\d+\\.\\d+)L', input_string)\n",
    "    prices = [float(price) for price in prices]\n",
    "    new.append(prices)"
   ]
  },
  {
   "cell_type": "code",
   "execution_count": null,
   "id": "a642db7c-7ef2-4227-90ad-6fbed75dbf66",
   "metadata": {},
   "outputs": [],
   "source": [
    "Cars_df['Price_car'] = new"
   ]
  },
  {
   "cell_type": "code",
   "execution_count": null,
   "id": "5fc7bcb9-9bbc-4942-b896-1515e0fffb74",
   "metadata": {},
   "outputs": [
    {
     "data": {
      "text/plain": [
       "0        [4.0, 6.0]\n",
       "1        [5.9, 8.6]\n",
       "2        [5.0, 8.8]\n",
       "3       [7.8, 15.5]\n",
       "4       [6.9, 10.0]\n",
       "           ...     \n",
       "395              []\n",
       "396    [60.0, 70.0]\n",
       "397     [9.0, 12.0]\n",
       "398              []\n",
       "399    [25.0, 30.0]\n",
       "Name: Price_car, Length: 400, dtype: object"
      ]
     },
     "execution_count": 50,
     "metadata": {},
     "output_type": "execute_result"
    }
   ],
   "source": [
    "Cars_df['Price_car']"
   ]
  },
  {
   "cell_type": "code",
   "execution_count": null,
   "id": "d6708956-c0da-4bb3-b878-55954ec03d9c",
   "metadata": {},
   "outputs": [
    {
     "data": {
      "text/html": [
       "<div>\n",
       "<style scoped>\n",
       "    .dataframe tbody tr th:only-of-type {\n",
       "        vertical-align: middle;\n",
       "    }\n",
       "\n",
       "    .dataframe tbody tr th {\n",
       "        vertical-align: top;\n",
       "    }\n",
       "\n",
       "    .dataframe thead th {\n",
       "        text-align: right;\n",
       "    }\n",
       "</style>\n",
       "<table border=\"1\" class=\"dataframe\">\n",
       "  <thead>\n",
       "    <tr style=\"text-align: right;\">\n",
       "      <th></th>\n",
       "      <th>Name</th>\n",
       "      <th>Model</th>\n",
       "      <th>Extra_features</th>\n",
       "      <th>Seater</th>\n",
       "      <th>Fuel_type</th>\n",
       "      <th>Safety</th>\n",
       "      <th>Price</th>\n",
       "      <th>Mileage</th>\n",
       "      <th>Price_car</th>\n",
       "    </tr>\n",
       "  </thead>\n",
       "  <tbody>\n",
       "    <tr>\n",
       "      <th>0</th>\n",
       "      <td>Maruti Suzuki Alto K10</td>\n",
       "      <td>Alto K10</td>\n",
       "      <td>Affordable hatchbackPopular choice in the hatc...</td>\n",
       "      <td>5</td>\n",
       "      <td>(CNG, Petrol)</td>\n",
       "      <td>*2 Safety</td>\n",
       "      <td>(4.0L, 6.0L)</td>\n",
       "      <td>0</td>\n",
       "      <td>[4.0, 6.0]</td>\n",
       "    </tr>\n",
       "    <tr>\n",
       "      <th>1</th>\n",
       "      <td>Hyundai Grand i10 Nios</td>\n",
       "      <td>Grand i10 Nios</td>\n",
       "      <td>Fun &amp; sporty hatchbackSpacious cabinFeature-ri...</td>\n",
       "      <td>5</td>\n",
       "      <td>(CNG, Petrol)</td>\n",
       "      <td>*2 Safety</td>\n",
       "      <td>(5.9L, 8.6L)</td>\n",
       "      <td>0</td>\n",
       "      <td>[5.9, 8.6]</td>\n",
       "    </tr>\n",
       "  </tbody>\n",
       "</table>\n",
       "</div>"
      ],
      "text/plain": [
       "                      Name            Model  \\\n",
       "0   Maruti Suzuki Alto K10         Alto K10   \n",
       "1   Hyundai Grand i10 Nios   Grand i10 Nios   \n",
       "\n",
       "                                      Extra_features  Seater      Fuel_type  \\\n",
       "0  Affordable hatchbackPopular choice in the hatc...       5  (CNG, Petrol)   \n",
       "1  Fun & sporty hatchbackSpacious cabinFeature-ri...       5  (CNG, Petrol)   \n",
       "\n",
       "      Safety         Price Mileage   Price_car  \n",
       "0  *2 Safety  (4.0L, 6.0L)       0  [4.0, 6.0]  \n",
       "1  *2 Safety  (5.9L, 8.6L)       0  [5.9, 8.6]  "
      ]
     },
     "execution_count": 52,
     "metadata": {},
     "output_type": "execute_result"
    }
   ],
   "source": [
    "Cars_df.head(2)"
   ]
  },
  {
   "cell_type": "code",
   "execution_count": null,
   "id": "e03faf5b-815e-45e8-ac9f-ea28ce2c6f17",
   "metadata": {},
   "outputs": [],
   "source": [
    "new2 = []\n",
    "for k in range(len(Cars_df)):\n",
    "    if Cars_df['Price_car'][k] == []:\n",
    "        new2.append(0)\n",
    "    else:\n",
    "        new2.append(Cars_df['Price_car'][k][1])"
   ]
  },
  {
   "cell_type": "code",
   "execution_count": null,
   "id": "ddbac6f6-60fa-4c75-a6ad-8331da0717bb",
   "metadata": {},
   "outputs": [],
   "source": [
    "Cars_df['max_Price_in_Lakh'] = new2"
   ]
  },
  {
   "cell_type": "code",
   "execution_count": null,
   "id": "04330db5-b356-49e5-a21d-d277868c1af0",
   "metadata": {},
   "outputs": [],
   "source": [
    "new3 = []\n",
    "for l in range(len(Cars_df)):\n",
    "    if Cars_df['Price_car'][l] == []:\n",
    "        new3.append(0)\n",
    "    else:\n",
    "        new3.append(Cars_df['Price_car'][l][0])"
   ]
  },
  {
   "cell_type": "code",
   "execution_count": null,
   "id": "254422ce-4611-4946-8a45-012b1e3edd44",
   "metadata": {},
   "outputs": [],
   "source": [
    "Cars_df['min_Price_in_Lakh'] = new3"
   ]
  },
  {
   "cell_type": "code",
   "execution_count": null,
   "id": "44299a16-afe0-4a47-8711-6d91f52c3ee6",
   "metadata": {},
   "outputs": [
    {
     "data": {
      "text/html": [
       "<div>\n",
       "<style scoped>\n",
       "    .dataframe tbody tr th:only-of-type {\n",
       "        vertical-align: middle;\n",
       "    }\n",
       "\n",
       "    .dataframe tbody tr th {\n",
       "        vertical-align: top;\n",
       "    }\n",
       "\n",
       "    .dataframe thead th {\n",
       "        text-align: right;\n",
       "    }\n",
       "</style>\n",
       "<table border=\"1\" class=\"dataframe\">\n",
       "  <thead>\n",
       "    <tr style=\"text-align: right;\">\n",
       "      <th></th>\n",
       "      <th>Name</th>\n",
       "      <th>Model</th>\n",
       "      <th>Extra_features</th>\n",
       "      <th>Seater</th>\n",
       "      <th>Fuel_type</th>\n",
       "      <th>Safety</th>\n",
       "      <th>Price</th>\n",
       "      <th>Mileage</th>\n",
       "      <th>Price_car</th>\n",
       "      <th>max_Price_in_Lakh</th>\n",
       "      <th>min_Price_in_Lakh</th>\n",
       "    </tr>\n",
       "  </thead>\n",
       "  <tbody>\n",
       "    <tr>\n",
       "      <th>0</th>\n",
       "      <td>Maruti Suzuki Alto K10</td>\n",
       "      <td>Alto K10</td>\n",
       "      <td>Affordable hatchbackPopular choice in the hatc...</td>\n",
       "      <td>5</td>\n",
       "      <td>(CNG, Petrol)</td>\n",
       "      <td>*2 Safety</td>\n",
       "      <td>(4.0L, 6.0L)</td>\n",
       "      <td>0</td>\n",
       "      <td>[4.0, 6.0]</td>\n",
       "      <td>6.0</td>\n",
       "      <td>4.0</td>\n",
       "    </tr>\n",
       "    <tr>\n",
       "      <th>1</th>\n",
       "      <td>Hyundai Grand i10 Nios</td>\n",
       "      <td>Grand i10 Nios</td>\n",
       "      <td>Fun &amp; sporty hatchbackSpacious cabinFeature-ri...</td>\n",
       "      <td>5</td>\n",
       "      <td>(CNG, Petrol)</td>\n",
       "      <td>*2 Safety</td>\n",
       "      <td>(5.9L, 8.6L)</td>\n",
       "      <td>0</td>\n",
       "      <td>[5.9, 8.6]</td>\n",
       "      <td>8.6</td>\n",
       "      <td>5.9</td>\n",
       "    </tr>\n",
       "  </tbody>\n",
       "</table>\n",
       "</div>"
      ],
      "text/plain": [
       "                      Name            Model  \\\n",
       "0   Maruti Suzuki Alto K10         Alto K10   \n",
       "1   Hyundai Grand i10 Nios   Grand i10 Nios   \n",
       "\n",
       "                                      Extra_features  Seater      Fuel_type  \\\n",
       "0  Affordable hatchbackPopular choice in the hatc...       5  (CNG, Petrol)   \n",
       "1  Fun & sporty hatchbackSpacious cabinFeature-ri...       5  (CNG, Petrol)   \n",
       "\n",
       "      Safety         Price Mileage   Price_car  max_Price_in_Lakh  \\\n",
       "0  *2 Safety  (4.0L, 6.0L)       0  [4.0, 6.0]                6.0   \n",
       "1  *2 Safety  (5.9L, 8.6L)       0  [5.9, 8.6]                8.6   \n",
       "\n",
       "   min_Price_in_Lakh  \n",
       "0                4.0  \n",
       "1                5.9  "
      ]
     },
     "execution_count": 62,
     "metadata": {},
     "output_type": "execute_result"
    }
   ],
   "source": [
    "Cars_df.head(2)"
   ]
  },
  {
   "cell_type": "code",
   "execution_count": null,
   "id": "c31c6d5d-bde0-4420-ba08-973aec846efb",
   "metadata": {},
   "outputs": [],
   "source": [
    "Cars_df.drop(columns=['Price','Price_car'],inplace=True)"
   ]
  },
  {
   "cell_type": "code",
   "execution_count": null,
   "id": "63d732c6-ce9a-4c95-9c56-b7caec27ddef",
   "metadata": {},
   "outputs": [
    {
     "data": {
      "text/html": [
       "<div>\n",
       "<style scoped>\n",
       "    .dataframe tbody tr th:only-of-type {\n",
       "        vertical-align: middle;\n",
       "    }\n",
       "\n",
       "    .dataframe tbody tr th {\n",
       "        vertical-align: top;\n",
       "    }\n",
       "\n",
       "    .dataframe thead th {\n",
       "        text-align: right;\n",
       "    }\n",
       "</style>\n",
       "<table border=\"1\" class=\"dataframe\">\n",
       "  <thead>\n",
       "    <tr style=\"text-align: right;\">\n",
       "      <th></th>\n",
       "      <th>Name</th>\n",
       "      <th>Model</th>\n",
       "      <th>Extra_features</th>\n",
       "      <th>Seater</th>\n",
       "      <th>Fuel_type</th>\n",
       "      <th>Safety</th>\n",
       "      <th>Mileage</th>\n",
       "      <th>max_Price_in_Lakh</th>\n",
       "      <th>min_Price_in_Lakh</th>\n",
       "    </tr>\n",
       "  </thead>\n",
       "  <tbody>\n",
       "    <tr>\n",
       "      <th>0</th>\n",
       "      <td>Maruti Suzuki Alto K10</td>\n",
       "      <td>Alto K10</td>\n",
       "      <td>Affordable hatchbackPopular choice in the hatc...</td>\n",
       "      <td>5</td>\n",
       "      <td>(CNG, Petrol)</td>\n",
       "      <td>*2 Safety</td>\n",
       "      <td>0</td>\n",
       "      <td>6.0</td>\n",
       "      <td>4.0</td>\n",
       "    </tr>\n",
       "    <tr>\n",
       "      <th>1</th>\n",
       "      <td>Hyundai Grand i10 Nios</td>\n",
       "      <td>Grand i10 Nios</td>\n",
       "      <td>Fun &amp; sporty hatchbackSpacious cabinFeature-ri...</td>\n",
       "      <td>5</td>\n",
       "      <td>(CNG, Petrol)</td>\n",
       "      <td>*2 Safety</td>\n",
       "      <td>0</td>\n",
       "      <td>8.6</td>\n",
       "      <td>5.9</td>\n",
       "    </tr>\n",
       "  </tbody>\n",
       "</table>\n",
       "</div>"
      ],
      "text/plain": [
       "                      Name            Model  \\\n",
       "0   Maruti Suzuki Alto K10         Alto K10   \n",
       "1   Hyundai Grand i10 Nios   Grand i10 Nios   \n",
       "\n",
       "                                      Extra_features  Seater      Fuel_type  \\\n",
       "0  Affordable hatchbackPopular choice in the hatc...       5  (CNG, Petrol)   \n",
       "1  Fun & sporty hatchbackSpacious cabinFeature-ri...       5  (CNG, Petrol)   \n",
       "\n",
       "      Safety Mileage  max_Price_in_Lakh  min_Price_in_Lakh  \n",
       "0  *2 Safety       0                6.0                4.0  \n",
       "1  *2 Safety       0                8.6                5.9  "
      ]
     },
     "execution_count": 66,
     "metadata": {},
     "output_type": "execute_result"
    }
   ],
   "source": [
    "Cars_df.head(2)"
   ]
  },
  {
   "cell_type": "code",
   "execution_count": null,
   "id": "b0f3d58c-aa9e-42a2-a471-137d49dc4db8",
   "metadata": {},
   "outputs": [],
   "source": [
    "new4 = []\n",
    "for m in range(len(Cars_df)):\n",
    "    input_string1 = str(Cars_df['Mileage'][m])\n",
    "    numbers = re.findall(r'\\d+', input_string1)\n",
    "    result_list = [int(num) for num in numbers]\n",
    "    new4.append(result_list)"
   ]
  },
  {
   "cell_type": "code",
   "execution_count": null,
   "id": "73a8d3b4-128f-4709-92db-52c4dd5d383b",
   "metadata": {},
   "outputs": [],
   "source": [
    "Cars_df['car_m'] = new4"
   ]
  },
  {
   "cell_type": "code",
   "execution_count": null,
   "id": "f8cacd67-a92b-40df-8a2b-4909ee102ab1",
   "metadata": {},
   "outputs": [],
   "source": [
    "new5 = []\n",
    "for n in range(len(Cars_df)):\n",
    "    if Cars_df['car_m'][n] == [0]:\n",
    "        new5.append(0)\n",
    "    else:\n",
    "        new5.append(Cars_df['car_m'][n][0])"
   ]
  },
  {
   "cell_type": "code",
   "execution_count": null,
   "id": "0f953b88-d899-441d-848e-23451179ec30",
   "metadata": {},
   "outputs": [],
   "source": [
    "Cars_df['min_car_Mileage'] = new5"
   ]
  },
  {
   "cell_type": "code",
   "execution_count": null,
   "id": "e06c909a-7a5a-4798-876d-121a88a7f766",
   "metadata": {},
   "outputs": [],
   "source": [
    "new6 = []\n",
    "for o in range(len(Cars_df)):\n",
    "    if Cars_df['car_m'][o] == [0]:\n",
    "        new6.append(0)\n",
    "    else:\n",
    "        new6.append(Cars_df['car_m'][o][1])"
   ]
  },
  {
   "cell_type": "code",
   "execution_count": null,
   "id": "54733c64-3a0d-4b98-a4dd-cf56b51d3f26",
   "metadata": {},
   "outputs": [],
   "source": [
    "Cars_df['max_car_Mileage'] = new6"
   ]
  },
  {
   "cell_type": "code",
   "execution_count": null,
   "id": "d9e26adf-39d0-4387-943d-d97da3866372",
   "metadata": {},
   "outputs": [
    {
     "data": {
      "text/html": [
       "<div>\n",
       "<style scoped>\n",
       "    .dataframe tbody tr th:only-of-type {\n",
       "        vertical-align: middle;\n",
       "    }\n",
       "\n",
       "    .dataframe tbody tr th {\n",
       "        vertical-align: top;\n",
       "    }\n",
       "\n",
       "    .dataframe thead th {\n",
       "        text-align: right;\n",
       "    }\n",
       "</style>\n",
       "<table border=\"1\" class=\"dataframe\">\n",
       "  <thead>\n",
       "    <tr style=\"text-align: right;\">\n",
       "      <th></th>\n",
       "      <th>Name</th>\n",
       "      <th>Model</th>\n",
       "      <th>Extra_features</th>\n",
       "      <th>Seater</th>\n",
       "      <th>Fuel_type</th>\n",
       "      <th>Safety</th>\n",
       "      <th>Mileage</th>\n",
       "      <th>max_Price_in_Lakh</th>\n",
       "      <th>min_Price_in_Lakh</th>\n",
       "      <th>car_m</th>\n",
       "      <th>min_car_Mileage</th>\n",
       "      <th>max_car_Mileage</th>\n",
       "    </tr>\n",
       "  </thead>\n",
       "  <tbody>\n",
       "    <tr>\n",
       "      <th>0</th>\n",
       "      <td>Maruti Suzuki Alto K10</td>\n",
       "      <td>Alto K10</td>\n",
       "      <td>Affordable hatchbackPopular choice in the hatc...</td>\n",
       "      <td>5</td>\n",
       "      <td>(CNG, Petrol)</td>\n",
       "      <td>*2 Safety</td>\n",
       "      <td>0</td>\n",
       "      <td>6.0</td>\n",
       "      <td>4.0</td>\n",
       "      <td>[0]</td>\n",
       "      <td>0</td>\n",
       "      <td>0</td>\n",
       "    </tr>\n",
       "    <tr>\n",
       "      <th>1</th>\n",
       "      <td>Hyundai Grand i10 Nios</td>\n",
       "      <td>Grand i10 Nios</td>\n",
       "      <td>Fun &amp; sporty hatchbackSpacious cabinFeature-ri...</td>\n",
       "      <td>5</td>\n",
       "      <td>(CNG, Petrol)</td>\n",
       "      <td>*2 Safety</td>\n",
       "      <td>0</td>\n",
       "      <td>8.6</td>\n",
       "      <td>5.9</td>\n",
       "      <td>[0]</td>\n",
       "      <td>0</td>\n",
       "      <td>0</td>\n",
       "    </tr>\n",
       "  </tbody>\n",
       "</table>\n",
       "</div>"
      ],
      "text/plain": [
       "                      Name            Model  \\\n",
       "0   Maruti Suzuki Alto K10         Alto K10   \n",
       "1   Hyundai Grand i10 Nios   Grand i10 Nios   \n",
       "\n",
       "                                      Extra_features  Seater      Fuel_type  \\\n",
       "0  Affordable hatchbackPopular choice in the hatc...       5  (CNG, Petrol)   \n",
       "1  Fun & sporty hatchbackSpacious cabinFeature-ri...       5  (CNG, Petrol)   \n",
       "\n",
       "      Safety Mileage  max_Price_in_Lakh  min_Price_in_Lakh car_m  \\\n",
       "0  *2 Safety       0                6.0                4.0   [0]   \n",
       "1  *2 Safety       0                8.6                5.9   [0]   \n",
       "\n",
       "   min_car_Mileage  max_car_Mileage  \n",
       "0                0                0  \n",
       "1                0                0  "
      ]
     },
     "execution_count": 80,
     "metadata": {},
     "output_type": "execute_result"
    }
   ],
   "source": [
    "Cars_df.head(2)"
   ]
  },
  {
   "cell_type": "code",
   "execution_count": null,
   "id": "cd00efb4-02ce-4732-890b-71fddda69b81",
   "metadata": {},
   "outputs": [],
   "source": [
    "Cars_df.drop(columns=['Mileage','car_m'],inplace=True)"
   ]
  },
  {
   "cell_type": "code",
   "execution_count": null,
   "id": "b67f7b1a-410a-43e0-92e3-47849a8b9488",
   "metadata": {},
   "outputs": [
    {
     "data": {
      "text/html": [
       "<div>\n",
       "<style scoped>\n",
       "    .dataframe tbody tr th:only-of-type {\n",
       "        vertical-align: middle;\n",
       "    }\n",
       "\n",
       "    .dataframe tbody tr th {\n",
       "        vertical-align: top;\n",
       "    }\n",
       "\n",
       "    .dataframe thead th {\n",
       "        text-align: right;\n",
       "    }\n",
       "</style>\n",
       "<table border=\"1\" class=\"dataframe\">\n",
       "  <thead>\n",
       "    <tr style=\"text-align: right;\">\n",
       "      <th></th>\n",
       "      <th>Name</th>\n",
       "      <th>Model</th>\n",
       "      <th>Extra_features</th>\n",
       "      <th>Seater</th>\n",
       "      <th>Fuel_type</th>\n",
       "      <th>Safety</th>\n",
       "      <th>max_Price_in_Lakh</th>\n",
       "      <th>min_Price_in_Lakh</th>\n",
       "      <th>min_car_Mileage</th>\n",
       "      <th>max_car_Mileage</th>\n",
       "    </tr>\n",
       "  </thead>\n",
       "  <tbody>\n",
       "    <tr>\n",
       "      <th>0</th>\n",
       "      <td>Maruti Suzuki Alto K10</td>\n",
       "      <td>Alto K10</td>\n",
       "      <td>Affordable hatchbackPopular choice in the hatc...</td>\n",
       "      <td>5</td>\n",
       "      <td>(CNG, Petrol)</td>\n",
       "      <td>*2 Safety</td>\n",
       "      <td>6.0</td>\n",
       "      <td>4.0</td>\n",
       "      <td>0</td>\n",
       "      <td>0</td>\n",
       "    </tr>\n",
       "    <tr>\n",
       "      <th>1</th>\n",
       "      <td>Hyundai Grand i10 Nios</td>\n",
       "      <td>Grand i10 Nios</td>\n",
       "      <td>Fun &amp; sporty hatchbackSpacious cabinFeature-ri...</td>\n",
       "      <td>5</td>\n",
       "      <td>(CNG, Petrol)</td>\n",
       "      <td>*2 Safety</td>\n",
       "      <td>8.6</td>\n",
       "      <td>5.9</td>\n",
       "      <td>0</td>\n",
       "      <td>0</td>\n",
       "    </tr>\n",
       "  </tbody>\n",
       "</table>\n",
       "</div>"
      ],
      "text/plain": [
       "                      Name            Model  \\\n",
       "0   Maruti Suzuki Alto K10         Alto K10   \n",
       "1   Hyundai Grand i10 Nios   Grand i10 Nios   \n",
       "\n",
       "                                      Extra_features  Seater      Fuel_type  \\\n",
       "0  Affordable hatchbackPopular choice in the hatc...       5  (CNG, Petrol)   \n",
       "1  Fun & sporty hatchbackSpacious cabinFeature-ri...       5  (CNG, Petrol)   \n",
       "\n",
       "      Safety  max_Price_in_Lakh  min_Price_in_Lakh  min_car_Mileage  \\\n",
       "0  *2 Safety                6.0                4.0                0   \n",
       "1  *2 Safety                8.6                5.9                0   \n",
       "\n",
       "   max_car_Mileage  \n",
       "0                0  \n",
       "1                0  "
      ]
     },
     "execution_count": 84,
     "metadata": {},
     "output_type": "execute_result"
    }
   ],
   "source": [
    "Cars_df.head(2)"
   ]
  },
  {
   "cell_type": "code",
   "execution_count": null,
   "id": "0e556207-54c5-4397-84a9-790603bb3081",
   "metadata": {},
   "outputs": [],
   "source": [
    "new7 = []\n",
    "for p in range(len(Cars_df)):\n",
    "    input = str(Cars_df['Safety'][p])\n",
    "    y = re.findall(r'\\d+',input)\n",
    "    new7.append(y)    "
   ]
  },
  {
   "cell_type": "code",
   "execution_count": null,
   "id": "9160ba8c-11b2-4958-84e5-b0ffb04ea446",
   "metadata": {},
   "outputs": [],
   "source": [
    "Cars_df['Safety_rating'] = new7"
   ]
  },
  {
   "cell_type": "code",
   "execution_count": null,
   "id": "f120c645-0f72-4707-83d2-284a72ccbaec",
   "metadata": {},
   "outputs": [],
   "source": [
    "new8 = []\n",
    "for q in range(len(Cars_df)):\n",
    "    new8.append(Cars_df['Safety_rating'][q][0])"
   ]
  },
  {
   "cell_type": "code",
   "execution_count": null,
   "id": "8ab63dad-79e6-4fe3-84b1-66f03cb2a83d",
   "metadata": {},
   "outputs": [],
   "source": [
    "Cars_df['Safety_ratings'] = new8"
   ]
  },
  {
   "cell_type": "code",
   "execution_count": null,
   "id": "91b6a53a-9a2d-48ec-8af0-132f94e54fc3",
   "metadata": {},
   "outputs": [
    {
     "data": {
      "text/html": [
       "<div>\n",
       "<style scoped>\n",
       "    .dataframe tbody tr th:only-of-type {\n",
       "        vertical-align: middle;\n",
       "    }\n",
       "\n",
       "    .dataframe tbody tr th {\n",
       "        vertical-align: top;\n",
       "    }\n",
       "\n",
       "    .dataframe thead th {\n",
       "        text-align: right;\n",
       "    }\n",
       "</style>\n",
       "<table border=\"1\" class=\"dataframe\">\n",
       "  <thead>\n",
       "    <tr style=\"text-align: right;\">\n",
       "      <th></th>\n",
       "      <th>Name</th>\n",
       "      <th>Model</th>\n",
       "      <th>Extra_features</th>\n",
       "      <th>Seater</th>\n",
       "      <th>Fuel_type</th>\n",
       "      <th>Safety</th>\n",
       "      <th>max_Price_in_Lakh</th>\n",
       "      <th>min_Price_in_Lakh</th>\n",
       "      <th>min_car_Mileage</th>\n",
       "      <th>max_car_Mileage</th>\n",
       "      <th>Safety_rating</th>\n",
       "      <th>Safety_ratings</th>\n",
       "    </tr>\n",
       "  </thead>\n",
       "  <tbody>\n",
       "    <tr>\n",
       "      <th>0</th>\n",
       "      <td>Maruti Suzuki Alto K10</td>\n",
       "      <td>Alto K10</td>\n",
       "      <td>Affordable hatchbackPopular choice in the hatc...</td>\n",
       "      <td>5</td>\n",
       "      <td>(CNG, Petrol)</td>\n",
       "      <td>*2 Safety</td>\n",
       "      <td>6.0</td>\n",
       "      <td>4.0</td>\n",
       "      <td>0</td>\n",
       "      <td>0</td>\n",
       "      <td>[2]</td>\n",
       "      <td>2</td>\n",
       "    </tr>\n",
       "    <tr>\n",
       "      <th>1</th>\n",
       "      <td>Hyundai Grand i10 Nios</td>\n",
       "      <td>Grand i10 Nios</td>\n",
       "      <td>Fun &amp; sporty hatchbackSpacious cabinFeature-ri...</td>\n",
       "      <td>5</td>\n",
       "      <td>(CNG, Petrol)</td>\n",
       "      <td>*2 Safety</td>\n",
       "      <td>8.6</td>\n",
       "      <td>5.9</td>\n",
       "      <td>0</td>\n",
       "      <td>0</td>\n",
       "      <td>[2]</td>\n",
       "      <td>2</td>\n",
       "    </tr>\n",
       "  </tbody>\n",
       "</table>\n",
       "</div>"
      ],
      "text/plain": [
       "                      Name            Model  \\\n",
       "0   Maruti Suzuki Alto K10         Alto K10   \n",
       "1   Hyundai Grand i10 Nios   Grand i10 Nios   \n",
       "\n",
       "                                      Extra_features  Seater      Fuel_type  \\\n",
       "0  Affordable hatchbackPopular choice in the hatc...       5  (CNG, Petrol)   \n",
       "1  Fun & sporty hatchbackSpacious cabinFeature-ri...       5  (CNG, Petrol)   \n",
       "\n",
       "      Safety  max_Price_in_Lakh  min_Price_in_Lakh  min_car_Mileage  \\\n",
       "0  *2 Safety                6.0                4.0                0   \n",
       "1  *2 Safety                8.6                5.9                0   \n",
       "\n",
       "   max_car_Mileage Safety_rating Safety_ratings  \n",
       "0                0           [2]              2  \n",
       "1                0           [2]              2  "
      ]
     },
     "execution_count": 94,
     "metadata": {},
     "output_type": "execute_result"
    }
   ],
   "source": [
    "Cars_df.head(2)"
   ]
  },
  {
   "cell_type": "code",
   "execution_count": null,
   "id": "458660f0-0f3d-46f2-bf43-1159d24b7dbd",
   "metadata": {},
   "outputs": [],
   "source": [
    "Cars_df.drop(columns = ['Safety_rating','Safety'],inplace=True)"
   ]
  },
  {
   "cell_type": "code",
   "execution_count": null,
   "id": "2609f8d1-772f-4e68-af12-e3ddd3fca56b",
   "metadata": {},
   "outputs": [
    {
     "data": {
      "text/html": [
       "<div>\n",
       "<style scoped>\n",
       "    .dataframe tbody tr th:only-of-type {\n",
       "        vertical-align: middle;\n",
       "    }\n",
       "\n",
       "    .dataframe tbody tr th {\n",
       "        vertical-align: top;\n",
       "    }\n",
       "\n",
       "    .dataframe thead th {\n",
       "        text-align: right;\n",
       "    }\n",
       "</style>\n",
       "<table border=\"1\" class=\"dataframe\">\n",
       "  <thead>\n",
       "    <tr style=\"text-align: right;\">\n",
       "      <th></th>\n",
       "      <th>Name</th>\n",
       "      <th>Model</th>\n",
       "      <th>Extra_features</th>\n",
       "      <th>Seater</th>\n",
       "      <th>Fuel_type</th>\n",
       "      <th>max_Price_in_Lakh</th>\n",
       "      <th>min_Price_in_Lakh</th>\n",
       "      <th>min_car_Mileage</th>\n",
       "      <th>max_car_Mileage</th>\n",
       "      <th>Safety_ratings</th>\n",
       "    </tr>\n",
       "  </thead>\n",
       "  <tbody>\n",
       "    <tr>\n",
       "      <th>0</th>\n",
       "      <td>Maruti Suzuki Alto K10</td>\n",
       "      <td>Alto K10</td>\n",
       "      <td>Affordable hatchbackPopular choice in the hatc...</td>\n",
       "      <td>5</td>\n",
       "      <td>(CNG, Petrol)</td>\n",
       "      <td>6.0</td>\n",
       "      <td>4.0</td>\n",
       "      <td>0</td>\n",
       "      <td>0</td>\n",
       "      <td>2</td>\n",
       "    </tr>\n",
       "    <tr>\n",
       "      <th>1</th>\n",
       "      <td>Hyundai Grand i10 Nios</td>\n",
       "      <td>Grand i10 Nios</td>\n",
       "      <td>Fun &amp; sporty hatchbackSpacious cabinFeature-ri...</td>\n",
       "      <td>5</td>\n",
       "      <td>(CNG, Petrol)</td>\n",
       "      <td>8.6</td>\n",
       "      <td>5.9</td>\n",
       "      <td>0</td>\n",
       "      <td>0</td>\n",
       "      <td>2</td>\n",
       "    </tr>\n",
       "  </tbody>\n",
       "</table>\n",
       "</div>"
      ],
      "text/plain": [
       "                      Name            Model  \\\n",
       "0   Maruti Suzuki Alto K10         Alto K10   \n",
       "1   Hyundai Grand i10 Nios   Grand i10 Nios   \n",
       "\n",
       "                                      Extra_features  Seater      Fuel_type  \\\n",
       "0  Affordable hatchbackPopular choice in the hatc...       5  (CNG, Petrol)   \n",
       "1  Fun & sporty hatchbackSpacious cabinFeature-ri...       5  (CNG, Petrol)   \n",
       "\n",
       "   max_Price_in_Lakh  min_Price_in_Lakh  min_car_Mileage  max_car_Mileage  \\\n",
       "0                6.0                4.0                0                0   \n",
       "1                8.6                5.9                0                0   \n",
       "\n",
       "  Safety_ratings  \n",
       "0              2  \n",
       "1              2  "
      ]
     },
     "execution_count": 98,
     "metadata": {},
     "output_type": "execute_result"
    }
   ],
   "source": [
    "Cars_df.head(2)"
   ]
  },
  {
   "cell_type": "code",
   "execution_count": null,
   "id": "a720a572-8216-4241-b2f4-51522faeba8e",
   "metadata": {},
   "outputs": [],
   "source": [
    "new9 = []\n",
    "new10 = []\n",
    "for r in range(len(Cars_df)):\n",
    "    if Cars_df['Fuel_type'][r] == 0:\n",
    "        new9.append(0)\n",
    "        new10.append(0)\n",
    "    else:\n",
    "        new9.append(Cars_df['Fuel_type'][r][0])\n",
    "        new10.append(Cars_df['Fuel_type'][r][1])"
   ]
  },
  {
   "cell_type": "code",
   "execution_count": null,
   "id": "88485c10-2716-4c10-91f5-31f2a67b7cd2",
   "metadata": {},
   "outputs": [],
   "source": [
    "Cars_df[\"fuel_type1\"] = new9\n",
    "Cars_df[\"fuel_type2\"] = new10"
   ]
  },
  {
   "cell_type": "code",
   "execution_count": null,
   "id": "8cdab056-a2af-4871-b5d5-c5269d99258c",
   "metadata": {},
   "outputs": [],
   "source": [
    "Cars_df.drop(columns=['Fuel_type'],inplace=True)"
   ]
  },
  {
   "cell_type": "code",
   "execution_count": null,
   "id": "1af6a8ca-14b0-48ac-93fe-77644244ffde",
   "metadata": {},
   "outputs": [],
   "source": [
    "Cars_df.drop(columns=['Extra_features'],inplace=True)"
   ]
  },
  {
   "cell_type": "code",
   "execution_count": null,
   "id": "93933f68-7a3e-401e-b9d7-acffa1017c1a",
   "metadata": {},
   "outputs": [
    {
     "data": {
      "text/html": [
       "<div>\n",
       "<style scoped>\n",
       "    .dataframe tbody tr th:only-of-type {\n",
       "        vertical-align: middle;\n",
       "    }\n",
       "\n",
       "    .dataframe tbody tr th {\n",
       "        vertical-align: top;\n",
       "    }\n",
       "\n",
       "    .dataframe thead th {\n",
       "        text-align: right;\n",
       "    }\n",
       "</style>\n",
       "<table border=\"1\" class=\"dataframe\">\n",
       "  <thead>\n",
       "    <tr style=\"text-align: right;\">\n",
       "      <th></th>\n",
       "      <th>Name</th>\n",
       "      <th>Model</th>\n",
       "      <th>Seater</th>\n",
       "      <th>max_Price_in_Lakh</th>\n",
       "      <th>min_Price_in_Lakh</th>\n",
       "      <th>min_car_Mileage</th>\n",
       "      <th>max_car_Mileage</th>\n",
       "      <th>Safety_ratings</th>\n",
       "      <th>fuel_type1</th>\n",
       "      <th>fuel_type2</th>\n",
       "    </tr>\n",
       "  </thead>\n",
       "  <tbody>\n",
       "    <tr>\n",
       "      <th>0</th>\n",
       "      <td>Maruti Suzuki Alto K10</td>\n",
       "      <td>Alto K10</td>\n",
       "      <td>5</td>\n",
       "      <td>6.0</td>\n",
       "      <td>4.0</td>\n",
       "      <td>0</td>\n",
       "      <td>0</td>\n",
       "      <td>2</td>\n",
       "      <td>CNG</td>\n",
       "      <td>Petrol</td>\n",
       "    </tr>\n",
       "    <tr>\n",
       "      <th>1</th>\n",
       "      <td>Hyundai Grand i10 Nios</td>\n",
       "      <td>Grand i10 Nios</td>\n",
       "      <td>5</td>\n",
       "      <td>8.6</td>\n",
       "      <td>5.9</td>\n",
       "      <td>0</td>\n",
       "      <td>0</td>\n",
       "      <td>2</td>\n",
       "      <td>CNG</td>\n",
       "      <td>Petrol</td>\n",
       "    </tr>\n",
       "  </tbody>\n",
       "</table>\n",
       "</div>"
      ],
      "text/plain": [
       "                      Name            Model  Seater  max_Price_in_Lakh  \\\n",
       "0   Maruti Suzuki Alto K10         Alto K10       5                6.0   \n",
       "1   Hyundai Grand i10 Nios   Grand i10 Nios       5                8.6   \n",
       "\n",
       "   min_Price_in_Lakh  min_car_Mileage  max_car_Mileage Safety_ratings  \\\n",
       "0                4.0                0                0              2   \n",
       "1                5.9                0                0              2   \n",
       "\n",
       "  fuel_type1 fuel_type2  \n",
       "0        CNG     Petrol  \n",
       "1        CNG     Petrol  "
      ]
     },
     "execution_count": 108,
     "metadata": {},
     "output_type": "execute_result"
    }
   ],
   "source": [
    "Cars_df.head(2)"
   ]
  },
  {
   "cell_type": "code",
   "execution_count": null,
   "id": "4433e6b0-52fa-4687-96ea-5d50c16fe239",
   "metadata": {},
   "outputs": [],
   "source": [
    "Cars_df.to_csv('Cars.csv')"
   ]
  },
  {
   "cell_type": "code",
   "execution_count": null,
   "id": "54247a10-76d9-4b43-9e78-2f91a16fe449",
   "metadata": {},
   "outputs": [],
   "source": [
    "Cars_df = pd.read_csv('Cars.csv',na_values=['0'])"
   ]
  },
  {
   "cell_type": "code",
   "execution_count": null,
   "id": "2544f803-025e-463a-a57a-1c7884eb738d",
   "metadata": {},
   "outputs": [
    {
     "data": {
      "text/html": [
       "<div>\n",
       "<style scoped>\n",
       "    .dataframe tbody tr th:only-of-type {\n",
       "        vertical-align: middle;\n",
       "    }\n",
       "\n",
       "    .dataframe tbody tr th {\n",
       "        vertical-align: top;\n",
       "    }\n",
       "\n",
       "    .dataframe thead th {\n",
       "        text-align: right;\n",
       "    }\n",
       "</style>\n",
       "<table border=\"1\" class=\"dataframe\">\n",
       "  <thead>\n",
       "    <tr style=\"text-align: right;\">\n",
       "      <th></th>\n",
       "      <th>Unnamed: 0</th>\n",
       "      <th>Name</th>\n",
       "      <th>Model</th>\n",
       "      <th>Seater</th>\n",
       "      <th>max_Price_in_Lakh</th>\n",
       "      <th>min_Price_in_Lakh</th>\n",
       "      <th>min_car_Mileage</th>\n",
       "      <th>max_car_Mileage</th>\n",
       "      <th>Safety_ratings</th>\n",
       "      <th>fuel_type1</th>\n",
       "      <th>fuel_type2</th>\n",
       "    </tr>\n",
       "  </thead>\n",
       "  <tbody>\n",
       "    <tr>\n",
       "      <th>0</th>\n",
       "      <td>NaN</td>\n",
       "      <td>Maruti Suzuki Alto K10</td>\n",
       "      <td>Alto K10</td>\n",
       "      <td>5.0</td>\n",
       "      <td>6.0</td>\n",
       "      <td>4.0</td>\n",
       "      <td>NaN</td>\n",
       "      <td>NaN</td>\n",
       "      <td>2.0</td>\n",
       "      <td>CNG</td>\n",
       "      <td>Petrol</td>\n",
       "    </tr>\n",
       "    <tr>\n",
       "      <th>1</th>\n",
       "      <td>1.0</td>\n",
       "      <td>Hyundai Grand i10 Nios</td>\n",
       "      <td>Grand i10 Nios</td>\n",
       "      <td>5.0</td>\n",
       "      <td>8.6</td>\n",
       "      <td>5.9</td>\n",
       "      <td>NaN</td>\n",
       "      <td>NaN</td>\n",
       "      <td>2.0</td>\n",
       "      <td>CNG</td>\n",
       "      <td>Petrol</td>\n",
       "    </tr>\n",
       "  </tbody>\n",
       "</table>\n",
       "</div>"
      ],
      "text/plain": [
       "   Unnamed: 0                     Name            Model  Seater  \\\n",
       "0         NaN   Maruti Suzuki Alto K10         Alto K10     5.0   \n",
       "1         1.0   Hyundai Grand i10 Nios   Grand i10 Nios     5.0   \n",
       "\n",
       "   max_Price_in_Lakh  min_Price_in_Lakh  min_car_Mileage  max_car_Mileage  \\\n",
       "0                6.0                4.0              NaN              NaN   \n",
       "1                8.6                5.9              NaN              NaN   \n",
       "\n",
       "   Safety_ratings fuel_type1 fuel_type2  \n",
       "0             2.0        CNG     Petrol  \n",
       "1             2.0        CNG     Petrol  "
      ]
     },
     "execution_count": 114,
     "metadata": {},
     "output_type": "execute_result"
    }
   ],
   "source": [
    "Cars_df.head(2)"
   ]
  },
  {
   "cell_type": "code",
   "execution_count": null,
   "id": "0329bd7f-b569-4ad9-a41a-89c5cf45970f",
   "metadata": {},
   "outputs": [],
   "source": [
    "Cars_df.drop(columns=['Unnamed: 0'],inplace=True)"
   ]
  },
  {
   "cell_type": "code",
   "execution_count": null,
   "id": "41b03861-6467-4a36-927d-3d728d29cc65",
   "metadata": {},
   "outputs": [
    {
     "data": {
      "text/html": [
       "<div>\n",
       "<style scoped>\n",
       "    .dataframe tbody tr th:only-of-type {\n",
       "        vertical-align: middle;\n",
       "    }\n",
       "\n",
       "    .dataframe tbody tr th {\n",
       "        vertical-align: top;\n",
       "    }\n",
       "\n",
       "    .dataframe thead th {\n",
       "        text-align: right;\n",
       "    }\n",
       "</style>\n",
       "<table border=\"1\" class=\"dataframe\">\n",
       "  <thead>\n",
       "    <tr style=\"text-align: right;\">\n",
       "      <th></th>\n",
       "      <th>Name</th>\n",
       "      <th>Model</th>\n",
       "      <th>Seater</th>\n",
       "      <th>max_Price_in_Lakh</th>\n",
       "      <th>min_Price_in_Lakh</th>\n",
       "      <th>min_car_Mileage</th>\n",
       "      <th>max_car_Mileage</th>\n",
       "      <th>Safety_ratings</th>\n",
       "      <th>fuel_type1</th>\n",
       "      <th>fuel_type2</th>\n",
       "    </tr>\n",
       "  </thead>\n",
       "  <tbody>\n",
       "    <tr>\n",
       "      <th>0</th>\n",
       "      <td>Maruti Suzuki Alto K10</td>\n",
       "      <td>Alto K10</td>\n",
       "      <td>5.0</td>\n",
       "      <td>6.0</td>\n",
       "      <td>4.0</td>\n",
       "      <td>NaN</td>\n",
       "      <td>NaN</td>\n",
       "      <td>2.0</td>\n",
       "      <td>CNG</td>\n",
       "      <td>Petrol</td>\n",
       "    </tr>\n",
       "    <tr>\n",
       "      <th>1</th>\n",
       "      <td>Hyundai Grand i10 Nios</td>\n",
       "      <td>Grand i10 Nios</td>\n",
       "      <td>5.0</td>\n",
       "      <td>8.6</td>\n",
       "      <td>5.9</td>\n",
       "      <td>NaN</td>\n",
       "      <td>NaN</td>\n",
       "      <td>2.0</td>\n",
       "      <td>CNG</td>\n",
       "      <td>Petrol</td>\n",
       "    </tr>\n",
       "  </tbody>\n",
       "</table>\n",
       "</div>"
      ],
      "text/plain": [
       "                      Name            Model  Seater  max_Price_in_Lakh  \\\n",
       "0   Maruti Suzuki Alto K10         Alto K10     5.0                6.0   \n",
       "1   Hyundai Grand i10 Nios   Grand i10 Nios     5.0                8.6   \n",
       "\n",
       "   min_Price_in_Lakh  min_car_Mileage  max_car_Mileage  Safety_ratings  \\\n",
       "0                4.0              NaN              NaN             2.0   \n",
       "1                5.9              NaN              NaN             2.0   \n",
       "\n",
       "  fuel_type1 fuel_type2  \n",
       "0        CNG     Petrol  \n",
       "1        CNG     Petrol  "
      ]
     },
     "execution_count": 118,
     "metadata": {},
     "output_type": "execute_result"
    }
   ],
   "source": [
    "Cars_df.head(2)"
   ]
  },
  {
   "cell_type": "code",
   "execution_count": null,
   "id": "6d079b0b-c0ec-49fc-b8ae-8db5e06bd8b9",
   "metadata": {},
   "outputs": [],
   "source": [
    "Cars_df['Seater'] = Cars_df['Seater'].astype('Int64')"
   ]
  },
  {
   "cell_type": "code",
   "execution_count": null,
   "id": "45eb3e1d-4ed5-447b-bf1a-8cfb2ff6b60c",
   "metadata": {},
   "outputs": [
    {
     "data": {
      "text/html": [
       "<div>\n",
       "<style scoped>\n",
       "    .dataframe tbody tr th:only-of-type {\n",
       "        vertical-align: middle;\n",
       "    }\n",
       "\n",
       "    .dataframe tbody tr th {\n",
       "        vertical-align: top;\n",
       "    }\n",
       "\n",
       "    .dataframe thead th {\n",
       "        text-align: right;\n",
       "    }\n",
       "</style>\n",
       "<table border=\"1\" class=\"dataframe\">\n",
       "  <thead>\n",
       "    <tr style=\"text-align: right;\">\n",
       "      <th></th>\n",
       "      <th>Name</th>\n",
       "      <th>Model</th>\n",
       "      <th>Seater</th>\n",
       "      <th>max_Price_in_Lakh</th>\n",
       "      <th>min_Price_in_Lakh</th>\n",
       "      <th>min_car_Mileage</th>\n",
       "      <th>max_car_Mileage</th>\n",
       "      <th>Safety_ratings</th>\n",
       "      <th>fuel_type1</th>\n",
       "      <th>fuel_type2</th>\n",
       "    </tr>\n",
       "  </thead>\n",
       "  <tbody>\n",
       "    <tr>\n",
       "      <th>0</th>\n",
       "      <td>Maruti Suzuki Alto K10</td>\n",
       "      <td>Alto K10</td>\n",
       "      <td>5</td>\n",
       "      <td>6.0</td>\n",
       "      <td>4.0</td>\n",
       "      <td>NaN</td>\n",
       "      <td>NaN</td>\n",
       "      <td>2.0</td>\n",
       "      <td>CNG</td>\n",
       "      <td>Petrol</td>\n",
       "    </tr>\n",
       "    <tr>\n",
       "      <th>1</th>\n",
       "      <td>Hyundai Grand i10 Nios</td>\n",
       "      <td>Grand i10 Nios</td>\n",
       "      <td>5</td>\n",
       "      <td>8.6</td>\n",
       "      <td>5.9</td>\n",
       "      <td>NaN</td>\n",
       "      <td>NaN</td>\n",
       "      <td>2.0</td>\n",
       "      <td>CNG</td>\n",
       "      <td>Petrol</td>\n",
       "    </tr>\n",
       "  </tbody>\n",
       "</table>\n",
       "</div>"
      ],
      "text/plain": [
       "                      Name            Model  Seater  max_Price_in_Lakh  \\\n",
       "0   Maruti Suzuki Alto K10         Alto K10       5                6.0   \n",
       "1   Hyundai Grand i10 Nios   Grand i10 Nios       5                8.6   \n",
       "\n",
       "   min_Price_in_Lakh  min_car_Mileage  max_car_Mileage  Safety_ratings  \\\n",
       "0                4.0              NaN              NaN             2.0   \n",
       "1                5.9              NaN              NaN             2.0   \n",
       "\n",
       "  fuel_type1 fuel_type2  \n",
       "0        CNG     Petrol  \n",
       "1        CNG     Petrol  "
      ]
     },
     "execution_count": 122,
     "metadata": {},
     "output_type": "execute_result"
    }
   ],
   "source": [
    "Cars_df.head(2)"
   ]
  },
  {
   "cell_type": "code",
   "execution_count": null,
   "id": "f82d2dc8-1770-4bc1-a135-5f3990da37d6",
   "metadata": {},
   "outputs": [
    {
     "data": {
      "text/plain": [
       "5"
      ]
     },
     "execution_count": 124,
     "metadata": {},
     "output_type": "execute_result"
    }
   ],
   "source": [
    "Cars_df['Seater'].mode()[0]"
   ]
  },
  {
   "cell_type": "code",
   "execution_count": null,
   "id": "2d8f4b13-c16e-492b-a09c-f6011f96afbf",
   "metadata": {},
   "outputs": [],
   "source": [
    "Cars_df['Seater']= Cars_df['Seater'].fillna(value=5)"
   ]
  },
  {
   "cell_type": "code",
   "execution_count": null,
   "id": "9303523c-49a6-4e5f-ad78-5c6613b10abe",
   "metadata": {},
   "outputs": [
    {
     "data": {
      "text/html": [
       "<div>\n",
       "<style scoped>\n",
       "    .dataframe tbody tr th:only-of-type {\n",
       "        vertical-align: middle;\n",
       "    }\n",
       "\n",
       "    .dataframe tbody tr th {\n",
       "        vertical-align: top;\n",
       "    }\n",
       "\n",
       "    .dataframe thead th {\n",
       "        text-align: right;\n",
       "    }\n",
       "</style>\n",
       "<table border=\"1\" class=\"dataframe\">\n",
       "  <thead>\n",
       "    <tr style=\"text-align: right;\">\n",
       "      <th></th>\n",
       "      <th>Name</th>\n",
       "      <th>Model</th>\n",
       "      <th>Seater</th>\n",
       "      <th>max_Price_in_Lakh</th>\n",
       "      <th>min_Price_in_Lakh</th>\n",
       "      <th>min_car_Mileage</th>\n",
       "      <th>max_car_Mileage</th>\n",
       "      <th>Safety_ratings</th>\n",
       "      <th>fuel_type1</th>\n",
       "      <th>fuel_type2</th>\n",
       "    </tr>\n",
       "  </thead>\n",
       "  <tbody>\n",
       "    <tr>\n",
       "      <th>0</th>\n",
       "      <td>Maruti Suzuki Alto K10</td>\n",
       "      <td>Alto K10</td>\n",
       "      <td>5</td>\n",
       "      <td>6.0</td>\n",
       "      <td>4.0</td>\n",
       "      <td>NaN</td>\n",
       "      <td>NaN</td>\n",
       "      <td>2.0</td>\n",
       "      <td>CNG</td>\n",
       "      <td>Petrol</td>\n",
       "    </tr>\n",
       "    <tr>\n",
       "      <th>1</th>\n",
       "      <td>Hyundai Grand i10 Nios</td>\n",
       "      <td>Grand i10 Nios</td>\n",
       "      <td>5</td>\n",
       "      <td>8.6</td>\n",
       "      <td>5.9</td>\n",
       "      <td>NaN</td>\n",
       "      <td>NaN</td>\n",
       "      <td>2.0</td>\n",
       "      <td>CNG</td>\n",
       "      <td>Petrol</td>\n",
       "    </tr>\n",
       "  </tbody>\n",
       "</table>\n",
       "</div>"
      ],
      "text/plain": [
       "                      Name            Model  Seater  max_Price_in_Lakh  \\\n",
       "0   Maruti Suzuki Alto K10         Alto K10       5                6.0   \n",
       "1   Hyundai Grand i10 Nios   Grand i10 Nios       5                8.6   \n",
       "\n",
       "   min_Price_in_Lakh  min_car_Mileage  max_car_Mileage  Safety_ratings  \\\n",
       "0                4.0              NaN              NaN             2.0   \n",
       "1                5.9              NaN              NaN             2.0   \n",
       "\n",
       "  fuel_type1 fuel_type2  \n",
       "0        CNG     Petrol  \n",
       "1        CNG     Petrol  "
      ]
     },
     "execution_count": 128,
     "metadata": {},
     "output_type": "execute_result"
    }
   ],
   "source": [
    "Cars_df.head(2)"
   ]
  },
  {
   "cell_type": "code",
   "execution_count": null,
   "id": "5f6e703a-7ec3-4aa3-8483-9578ec4bbea5",
   "metadata": {},
   "outputs": [
    {
     "data": {
      "text/plain": [
       "6.0"
      ]
     },
     "execution_count": 130,
     "metadata": {},
     "output_type": "execute_result"
    }
   ],
   "source": [
    "Cars_df['max_Price_in_Lakh'].mode()[0]"
   ]
  },
  {
   "cell_type": "code",
   "execution_count": null,
   "id": "95853a46-64ff-42f7-8399-21c386cf3185",
   "metadata": {},
   "outputs": [],
   "source": [
    "Cars_df['max_Price_in_Lakh'] = Cars_df['max_Price_in_Lakh'].fillna(value=6.0)"
   ]
  },
  {
   "cell_type": "code",
   "execution_count": null,
   "id": "c47fb167-5707-4eda-804c-ed095c7f45df",
   "metadata": {},
   "outputs": [
    {
     "data": {
      "text/html": [
       "<div>\n",
       "<style scoped>\n",
       "    .dataframe tbody tr th:only-of-type {\n",
       "        vertical-align: middle;\n",
       "    }\n",
       "\n",
       "    .dataframe tbody tr th {\n",
       "        vertical-align: top;\n",
       "    }\n",
       "\n",
       "    .dataframe thead th {\n",
       "        text-align: right;\n",
       "    }\n",
       "</style>\n",
       "<table border=\"1\" class=\"dataframe\">\n",
       "  <thead>\n",
       "    <tr style=\"text-align: right;\">\n",
       "      <th></th>\n",
       "      <th>Name</th>\n",
       "      <th>Model</th>\n",
       "      <th>Seater</th>\n",
       "      <th>max_Price_in_Lakh</th>\n",
       "      <th>min_Price_in_Lakh</th>\n",
       "      <th>min_car_Mileage</th>\n",
       "      <th>max_car_Mileage</th>\n",
       "      <th>Safety_ratings</th>\n",
       "      <th>fuel_type1</th>\n",
       "      <th>fuel_type2</th>\n",
       "    </tr>\n",
       "  </thead>\n",
       "  <tbody>\n",
       "    <tr>\n",
       "      <th>0</th>\n",
       "      <td>Maruti Suzuki Alto K10</td>\n",
       "      <td>Alto K10</td>\n",
       "      <td>5</td>\n",
       "      <td>6.0</td>\n",
       "      <td>4.0</td>\n",
       "      <td>NaN</td>\n",
       "      <td>NaN</td>\n",
       "      <td>2.0</td>\n",
       "      <td>CNG</td>\n",
       "      <td>Petrol</td>\n",
       "    </tr>\n",
       "    <tr>\n",
       "      <th>1</th>\n",
       "      <td>Hyundai Grand i10 Nios</td>\n",
       "      <td>Grand i10 Nios</td>\n",
       "      <td>5</td>\n",
       "      <td>8.6</td>\n",
       "      <td>5.9</td>\n",
       "      <td>NaN</td>\n",
       "      <td>NaN</td>\n",
       "      <td>2.0</td>\n",
       "      <td>CNG</td>\n",
       "      <td>Petrol</td>\n",
       "    </tr>\n",
       "  </tbody>\n",
       "</table>\n",
       "</div>"
      ],
      "text/plain": [
       "                      Name            Model  Seater  max_Price_in_Lakh  \\\n",
       "0   Maruti Suzuki Alto K10         Alto K10       5                6.0   \n",
       "1   Hyundai Grand i10 Nios   Grand i10 Nios       5                8.6   \n",
       "\n",
       "   min_Price_in_Lakh  min_car_Mileage  max_car_Mileage  Safety_ratings  \\\n",
       "0                4.0              NaN              NaN             2.0   \n",
       "1                5.9              NaN              NaN             2.0   \n",
       "\n",
       "  fuel_type1 fuel_type2  \n",
       "0        CNG     Petrol  \n",
       "1        CNG     Petrol  "
      ]
     },
     "execution_count": 134,
     "metadata": {},
     "output_type": "execute_result"
    }
   ],
   "source": [
    "Cars_df.head(2)"
   ]
  },
  {
   "cell_type": "code",
   "execution_count": null,
   "id": "89c583ae-4d70-47a4-b1cd-b62f57c54275",
   "metadata": {},
   "outputs": [
    {
     "data": {
      "text/plain": [
       "8.0"
      ]
     },
     "execution_count": 136,
     "metadata": {},
     "output_type": "execute_result"
    }
   ],
   "source": [
    "Cars_df['min_Price_in_Lakh'].mode()[0]"
   ]
  },
  {
   "cell_type": "code",
   "execution_count": null,
   "id": "4d4a93b9-ba22-4880-865d-379276b045cc",
   "metadata": {},
   "outputs": [],
   "source": [
    "Cars_df['min_Price_in_Lakh'] = Cars_df['min_Price_in_Lakh'].fillna(value = 8.0)"
   ]
  },
  {
   "cell_type": "code",
   "execution_count": null,
   "id": "2e2e36d5-8b47-40b3-8e0a-af75b2c173e1",
   "metadata": {},
   "outputs": [
    {
     "data": {
      "text/html": [
       "<div>\n",
       "<style scoped>\n",
       "    .dataframe tbody tr th:only-of-type {\n",
       "        vertical-align: middle;\n",
       "    }\n",
       "\n",
       "    .dataframe tbody tr th {\n",
       "        vertical-align: top;\n",
       "    }\n",
       "\n",
       "    .dataframe thead th {\n",
       "        text-align: right;\n",
       "    }\n",
       "</style>\n",
       "<table border=\"1\" class=\"dataframe\">\n",
       "  <thead>\n",
       "    <tr style=\"text-align: right;\">\n",
       "      <th></th>\n",
       "      <th>Name</th>\n",
       "      <th>Model</th>\n",
       "      <th>Seater</th>\n",
       "      <th>max_Price_in_Lakh</th>\n",
       "      <th>min_Price_in_Lakh</th>\n",
       "      <th>min_car_Mileage</th>\n",
       "      <th>max_car_Mileage</th>\n",
       "      <th>Safety_ratings</th>\n",
       "      <th>fuel_type1</th>\n",
       "      <th>fuel_type2</th>\n",
       "    </tr>\n",
       "  </thead>\n",
       "  <tbody>\n",
       "    <tr>\n",
       "      <th>0</th>\n",
       "      <td>Maruti Suzuki Alto K10</td>\n",
       "      <td>Alto K10</td>\n",
       "      <td>5</td>\n",
       "      <td>6.0</td>\n",
       "      <td>4.0</td>\n",
       "      <td>NaN</td>\n",
       "      <td>NaN</td>\n",
       "      <td>2.0</td>\n",
       "      <td>CNG</td>\n",
       "      <td>Petrol</td>\n",
       "    </tr>\n",
       "    <tr>\n",
       "      <th>1</th>\n",
       "      <td>Hyundai Grand i10 Nios</td>\n",
       "      <td>Grand i10 Nios</td>\n",
       "      <td>5</td>\n",
       "      <td>8.6</td>\n",
       "      <td>5.9</td>\n",
       "      <td>NaN</td>\n",
       "      <td>NaN</td>\n",
       "      <td>2.0</td>\n",
       "      <td>CNG</td>\n",
       "      <td>Petrol</td>\n",
       "    </tr>\n",
       "  </tbody>\n",
       "</table>\n",
       "</div>"
      ],
      "text/plain": [
       "                      Name            Model  Seater  max_Price_in_Lakh  \\\n",
       "0   Maruti Suzuki Alto K10         Alto K10       5                6.0   \n",
       "1   Hyundai Grand i10 Nios   Grand i10 Nios       5                8.6   \n",
       "\n",
       "   min_Price_in_Lakh  min_car_Mileage  max_car_Mileage  Safety_ratings  \\\n",
       "0                4.0              NaN              NaN             2.0   \n",
       "1                5.9              NaN              NaN             2.0   \n",
       "\n",
       "  fuel_type1 fuel_type2  \n",
       "0        CNG     Petrol  \n",
       "1        CNG     Petrol  "
      ]
     },
     "execution_count": 140,
     "metadata": {},
     "output_type": "execute_result"
    }
   ],
   "source": [
    "Cars_df.head(2)"
   ]
  },
  {
   "cell_type": "code",
   "execution_count": null,
   "id": "db237176-4a83-46c6-9325-839d1e3ee39f",
   "metadata": {},
   "outputs": [
    {
     "data": {
      "text/plain": [
       "10.0"
      ]
     },
     "execution_count": 142,
     "metadata": {},
     "output_type": "execute_result"
    }
   ],
   "source": [
    "Cars_df['min_car_Mileage'].mode()[0]"
   ]
  },
  {
   "cell_type": "code",
   "execution_count": null,
   "id": "f86b5b1f-008b-4e7b-aad0-13de047e5d0d",
   "metadata": {},
   "outputs": [],
   "source": [
    "Cars_df['min_car_Mileage'] = Cars_df['min_car_Mileage'].fillna(value=10.0)"
   ]
  },
  {
   "cell_type": "code",
   "execution_count": null,
   "id": "f02743db-9f1a-4f84-9118-990c298131df",
   "metadata": {},
   "outputs": [
    {
     "data": {
      "text/html": [
       "<div>\n",
       "<style scoped>\n",
       "    .dataframe tbody tr th:only-of-type {\n",
       "        vertical-align: middle;\n",
       "    }\n",
       "\n",
       "    .dataframe tbody tr th {\n",
       "        vertical-align: top;\n",
       "    }\n",
       "\n",
       "    .dataframe thead th {\n",
       "        text-align: right;\n",
       "    }\n",
       "</style>\n",
       "<table border=\"1\" class=\"dataframe\">\n",
       "  <thead>\n",
       "    <tr style=\"text-align: right;\">\n",
       "      <th></th>\n",
       "      <th>Name</th>\n",
       "      <th>Model</th>\n",
       "      <th>Seater</th>\n",
       "      <th>max_Price_in_Lakh</th>\n",
       "      <th>min_Price_in_Lakh</th>\n",
       "      <th>min_car_Mileage</th>\n",
       "      <th>max_car_Mileage</th>\n",
       "      <th>Safety_ratings</th>\n",
       "      <th>fuel_type1</th>\n",
       "      <th>fuel_type2</th>\n",
       "    </tr>\n",
       "  </thead>\n",
       "  <tbody>\n",
       "    <tr>\n",
       "      <th>0</th>\n",
       "      <td>Maruti Suzuki Alto K10</td>\n",
       "      <td>Alto K10</td>\n",
       "      <td>5</td>\n",
       "      <td>6.0</td>\n",
       "      <td>4.0</td>\n",
       "      <td>10.0</td>\n",
       "      <td>NaN</td>\n",
       "      <td>2.0</td>\n",
       "      <td>CNG</td>\n",
       "      <td>Petrol</td>\n",
       "    </tr>\n",
       "    <tr>\n",
       "      <th>1</th>\n",
       "      <td>Hyundai Grand i10 Nios</td>\n",
       "      <td>Grand i10 Nios</td>\n",
       "      <td>5</td>\n",
       "      <td>8.6</td>\n",
       "      <td>5.9</td>\n",
       "      <td>10.0</td>\n",
       "      <td>NaN</td>\n",
       "      <td>2.0</td>\n",
       "      <td>CNG</td>\n",
       "      <td>Petrol</td>\n",
       "    </tr>\n",
       "  </tbody>\n",
       "</table>\n",
       "</div>"
      ],
      "text/plain": [
       "                      Name            Model  Seater  max_Price_in_Lakh  \\\n",
       "0   Maruti Suzuki Alto K10         Alto K10       5                6.0   \n",
       "1   Hyundai Grand i10 Nios   Grand i10 Nios       5                8.6   \n",
       "\n",
       "   min_Price_in_Lakh  min_car_Mileage  max_car_Mileage  Safety_ratings  \\\n",
       "0                4.0             10.0              NaN             2.0   \n",
       "1                5.9             10.0              NaN             2.0   \n",
       "\n",
       "  fuel_type1 fuel_type2  \n",
       "0        CNG     Petrol  \n",
       "1        CNG     Petrol  "
      ]
     },
     "execution_count": 146,
     "metadata": {},
     "output_type": "execute_result"
    }
   ],
   "source": [
    "Cars_df.head(2)"
   ]
  },
  {
   "cell_type": "code",
   "execution_count": null,
   "id": "18cf9440-7402-4def-a3b3-ae88657df54b",
   "metadata": {},
   "outputs": [
    {
     "data": {
      "text/plain": [
       "22.0"
      ]
     },
     "execution_count": 148,
     "metadata": {},
     "output_type": "execute_result"
    }
   ],
   "source": [
    "Cars_df['max_car_Mileage'].mode()[0]"
   ]
  },
  {
   "cell_type": "code",
   "execution_count": null,
   "id": "3616948c-00ab-419a-b4e7-1caea7ab2ea0",
   "metadata": {},
   "outputs": [
    {
     "data": {
      "text/html": [
       "<div>\n",
       "<style scoped>\n",
       "    .dataframe tbody tr th:only-of-type {\n",
       "        vertical-align: middle;\n",
       "    }\n",
       "\n",
       "    .dataframe tbody tr th {\n",
       "        vertical-align: top;\n",
       "    }\n",
       "\n",
       "    .dataframe thead th {\n",
       "        text-align: right;\n",
       "    }\n",
       "</style>\n",
       "<table border=\"1\" class=\"dataframe\">\n",
       "  <thead>\n",
       "    <tr style=\"text-align: right;\">\n",
       "      <th></th>\n",
       "      <th>Name</th>\n",
       "      <th>Model</th>\n",
       "      <th>Seater</th>\n",
       "      <th>max_Price_in_Lakh</th>\n",
       "      <th>min_Price_in_Lakh</th>\n",
       "      <th>min_car_Mileage</th>\n",
       "      <th>max_car_Mileage</th>\n",
       "      <th>Safety_ratings</th>\n",
       "      <th>fuel_type1</th>\n",
       "      <th>fuel_type2</th>\n",
       "    </tr>\n",
       "  </thead>\n",
       "  <tbody>\n",
       "    <tr>\n",
       "      <th>0</th>\n",
       "      <td>Maruti Suzuki Alto K10</td>\n",
       "      <td>Alto K10</td>\n",
       "      <td>5</td>\n",
       "      <td>6.0</td>\n",
       "      <td>4.0</td>\n",
       "      <td>10.0</td>\n",
       "      <td>22.0</td>\n",
       "      <td>2.0</td>\n",
       "      <td>CNG</td>\n",
       "      <td>Petrol</td>\n",
       "    </tr>\n",
       "    <tr>\n",
       "      <th>1</th>\n",
       "      <td>Hyundai Grand i10 Nios</td>\n",
       "      <td>Grand i10 Nios</td>\n",
       "      <td>5</td>\n",
       "      <td>8.6</td>\n",
       "      <td>5.9</td>\n",
       "      <td>10.0</td>\n",
       "      <td>22.0</td>\n",
       "      <td>2.0</td>\n",
       "      <td>CNG</td>\n",
       "      <td>Petrol</td>\n",
       "    </tr>\n",
       "  </tbody>\n",
       "</table>\n",
       "</div>"
      ],
      "text/plain": [
       "                      Name            Model  Seater  max_Price_in_Lakh  \\\n",
       "0   Maruti Suzuki Alto K10         Alto K10       5                6.0   \n",
       "1   Hyundai Grand i10 Nios   Grand i10 Nios       5                8.6   \n",
       "\n",
       "   min_Price_in_Lakh  min_car_Mileage  max_car_Mileage  Safety_ratings  \\\n",
       "0                4.0             10.0             22.0             2.0   \n",
       "1                5.9             10.0             22.0             2.0   \n",
       "\n",
       "  fuel_type1 fuel_type2  \n",
       "0        CNG     Petrol  \n",
       "1        CNG     Petrol  "
      ]
     },
     "execution_count": 150,
     "metadata": {},
     "output_type": "execute_result"
    }
   ],
   "source": [
    "Cars_df['max_car_Mileage'] = Cars_df['max_car_Mileage'].fillna(value=22.0)\n",
    "Cars_df.head(2)"
   ]
  },
  {
   "cell_type": "code",
   "execution_count": null,
   "id": "4600665c-7c55-4976-b162-6efbb8888129",
   "metadata": {},
   "outputs": [
    {
     "data": {
      "text/plain": [
       "2.0"
      ]
     },
     "execution_count": 152,
     "metadata": {},
     "output_type": "execute_result"
    }
   ],
   "source": [
    "Cars_df['Safety_ratings'].mode()[0]"
   ]
  },
  {
   "cell_type": "code",
   "execution_count": null,
   "id": "2f54c6c2-2fee-4cff-a9ae-2dac561c7013",
   "metadata": {},
   "outputs": [
    {
     "data": {
      "text/html": [
       "<div>\n",
       "<style scoped>\n",
       "    .dataframe tbody tr th:only-of-type {\n",
       "        vertical-align: middle;\n",
       "    }\n",
       "\n",
       "    .dataframe tbody tr th {\n",
       "        vertical-align: top;\n",
       "    }\n",
       "\n",
       "    .dataframe thead th {\n",
       "        text-align: right;\n",
       "    }\n",
       "</style>\n",
       "<table border=\"1\" class=\"dataframe\">\n",
       "  <thead>\n",
       "    <tr style=\"text-align: right;\">\n",
       "      <th></th>\n",
       "      <th>Name</th>\n",
       "      <th>Model</th>\n",
       "      <th>Seater</th>\n",
       "      <th>max_Price_in_Lakh</th>\n",
       "      <th>min_Price_in_Lakh</th>\n",
       "      <th>min_car_Mileage</th>\n",
       "      <th>max_car_Mileage</th>\n",
       "      <th>Safety_ratings</th>\n",
       "      <th>fuel_type1</th>\n",
       "      <th>fuel_type2</th>\n",
       "    </tr>\n",
       "  </thead>\n",
       "  <tbody>\n",
       "    <tr>\n",
       "      <th>0</th>\n",
       "      <td>Maruti Suzuki Alto K10</td>\n",
       "      <td>Alto K10</td>\n",
       "      <td>5</td>\n",
       "      <td>6.0</td>\n",
       "      <td>4.0</td>\n",
       "      <td>10.0</td>\n",
       "      <td>22.0</td>\n",
       "      <td>2.0</td>\n",
       "      <td>CNG</td>\n",
       "      <td>Petrol</td>\n",
       "    </tr>\n",
       "    <tr>\n",
       "      <th>1</th>\n",
       "      <td>Hyundai Grand i10 Nios</td>\n",
       "      <td>Grand i10 Nios</td>\n",
       "      <td>5</td>\n",
       "      <td>8.6</td>\n",
       "      <td>5.9</td>\n",
       "      <td>10.0</td>\n",
       "      <td>22.0</td>\n",
       "      <td>2.0</td>\n",
       "      <td>CNG</td>\n",
       "      <td>Petrol</td>\n",
       "    </tr>\n",
       "  </tbody>\n",
       "</table>\n",
       "</div>"
      ],
      "text/plain": [
       "                      Name            Model  Seater  max_Price_in_Lakh  \\\n",
       "0   Maruti Suzuki Alto K10         Alto K10       5                6.0   \n",
       "1   Hyundai Grand i10 Nios   Grand i10 Nios       5                8.6   \n",
       "\n",
       "   min_Price_in_Lakh  min_car_Mileage  max_car_Mileage  Safety_ratings  \\\n",
       "0                4.0             10.0             22.0             2.0   \n",
       "1                5.9             10.0             22.0             2.0   \n",
       "\n",
       "  fuel_type1 fuel_type2  \n",
       "0        CNG     Petrol  \n",
       "1        CNG     Petrol  "
      ]
     },
     "execution_count": 154,
     "metadata": {},
     "output_type": "execute_result"
    }
   ],
   "source": [
    "Cars_df['Safety_ratings'] = Cars_df['Safety_ratings'].fillna(value = 2.0)\n",
    "Cars_df.head(2)"
   ]
  },
  {
   "cell_type": "code",
   "execution_count": null,
   "id": "d52b2aad-0746-4f6f-9a3b-a94703cb358c",
   "metadata": {},
   "outputs": [
    {
     "data": {
      "text/plain": [
       "'CNG'"
      ]
     },
     "execution_count": 156,
     "metadata": {},
     "output_type": "execute_result"
    }
   ],
   "source": [
    "Cars_df['fuel_type1'].mode()[0]"
   ]
  },
  {
   "cell_type": "code",
   "execution_count": null,
   "id": "93fecb94-dc4e-487d-9af3-e3eb72bb1599",
   "metadata": {},
   "outputs": [
    {
     "data": {
      "text/html": [
       "<div>\n",
       "<style scoped>\n",
       "    .dataframe tbody tr th:only-of-type {\n",
       "        vertical-align: middle;\n",
       "    }\n",
       "\n",
       "    .dataframe tbody tr th {\n",
       "        vertical-align: top;\n",
       "    }\n",
       "\n",
       "    .dataframe thead th {\n",
       "        text-align: right;\n",
       "    }\n",
       "</style>\n",
       "<table border=\"1\" class=\"dataframe\">\n",
       "  <thead>\n",
       "    <tr style=\"text-align: right;\">\n",
       "      <th></th>\n",
       "      <th>Name</th>\n",
       "      <th>Model</th>\n",
       "      <th>Seater</th>\n",
       "      <th>max_Price_in_Lakh</th>\n",
       "      <th>min_Price_in_Lakh</th>\n",
       "      <th>min_car_Mileage</th>\n",
       "      <th>max_car_Mileage</th>\n",
       "      <th>Safety_ratings</th>\n",
       "      <th>fuel_type1</th>\n",
       "      <th>fuel_type2</th>\n",
       "    </tr>\n",
       "  </thead>\n",
       "  <tbody>\n",
       "    <tr>\n",
       "      <th>0</th>\n",
       "      <td>Maruti Suzuki Alto K10</td>\n",
       "      <td>Alto K10</td>\n",
       "      <td>5</td>\n",
       "      <td>6.0</td>\n",
       "      <td>4.0</td>\n",
       "      <td>10.0</td>\n",
       "      <td>22.0</td>\n",
       "      <td>2.0</td>\n",
       "      <td>CNG</td>\n",
       "      <td>Petrol</td>\n",
       "    </tr>\n",
       "    <tr>\n",
       "      <th>1</th>\n",
       "      <td>Hyundai Grand i10 Nios</td>\n",
       "      <td>Grand i10 Nios</td>\n",
       "      <td>5</td>\n",
       "      <td>8.6</td>\n",
       "      <td>5.9</td>\n",
       "      <td>10.0</td>\n",
       "      <td>22.0</td>\n",
       "      <td>2.0</td>\n",
       "      <td>CNG</td>\n",
       "      <td>Petrol</td>\n",
       "    </tr>\n",
       "  </tbody>\n",
       "</table>\n",
       "</div>"
      ],
      "text/plain": [
       "                      Name            Model  Seater  max_Price_in_Lakh  \\\n",
       "0   Maruti Suzuki Alto K10         Alto K10       5                6.0   \n",
       "1   Hyundai Grand i10 Nios   Grand i10 Nios       5                8.6   \n",
       "\n",
       "   min_Price_in_Lakh  min_car_Mileage  max_car_Mileage  Safety_ratings  \\\n",
       "0                4.0             10.0             22.0             2.0   \n",
       "1                5.9             10.0             22.0             2.0   \n",
       "\n",
       "  fuel_type1 fuel_type2  \n",
       "0        CNG     Petrol  \n",
       "1        CNG     Petrol  "
      ]
     },
     "execution_count": 158,
     "metadata": {},
     "output_type": "execute_result"
    }
   ],
   "source": [
    "Cars_df['fuel_type1'] = Cars_df['fuel_type1'].fillna(value='CNG')\n",
    "Cars_df.head(2)"
   ]
  },
  {
   "cell_type": "code",
   "execution_count": null,
   "id": "a773696f-eb44-4a4d-8c72-2f35540892ae",
   "metadata": {},
   "outputs": [
    {
     "data": {
      "text/plain": [
       "'Petrol'"
      ]
     },
     "execution_count": 160,
     "metadata": {},
     "output_type": "execute_result"
    }
   ],
   "source": [
    "Cars_df['fuel_type2'].mode()[0]"
   ]
  },
  {
   "cell_type": "code",
   "execution_count": null,
   "id": "451ef439-359f-4ff1-89b9-adab2894a460",
   "metadata": {},
   "outputs": [],
   "source": [
    "Cars_df['fuel_type2'] = Cars_df['fuel_type2'].fillna(value='Petrol')"
   ]
  },
  {
   "cell_type": "markdown",
   "id": "f1907a7a-d5e0-4ec2-8b2f-095227f283bf",
   "metadata": {},
   "source": [
    "### Data After Cleaning."
   ]
  },
  {
   "cell_type": "code",
   "execution_count": null,
   "id": "6b15b666-b4d6-4012-8f65-868513411dd0",
   "metadata": {},
   "outputs": [
    {
     "data": {
      "text/html": [
       "<div>\n",
       "<style scoped>\n",
       "    .dataframe tbody tr th:only-of-type {\n",
       "        vertical-align: middle;\n",
       "    }\n",
       "\n",
       "    .dataframe tbody tr th {\n",
       "        vertical-align: top;\n",
       "    }\n",
       "\n",
       "    .dataframe thead th {\n",
       "        text-align: right;\n",
       "    }\n",
       "</style>\n",
       "<table border=\"1\" class=\"dataframe\">\n",
       "  <thead>\n",
       "    <tr style=\"text-align: right;\">\n",
       "      <th></th>\n",
       "      <th>Name</th>\n",
       "      <th>Model</th>\n",
       "      <th>Seater</th>\n",
       "      <th>max_Price_in_Lakh</th>\n",
       "      <th>min_Price_in_Lakh</th>\n",
       "      <th>min_car_Mileage</th>\n",
       "      <th>max_car_Mileage</th>\n",
       "      <th>Safety_ratings</th>\n",
       "      <th>fuel_type1</th>\n",
       "      <th>fuel_type2</th>\n",
       "    </tr>\n",
       "  </thead>\n",
       "  <tbody>\n",
       "    <tr>\n",
       "      <th>0</th>\n",
       "      <td>Maruti Suzuki Alto K10</td>\n",
       "      <td>Alto K10</td>\n",
       "      <td>5</td>\n",
       "      <td>6.0</td>\n",
       "      <td>4.0</td>\n",
       "      <td>10.0</td>\n",
       "      <td>22.0</td>\n",
       "      <td>2.0</td>\n",
       "      <td>CNG</td>\n",
       "      <td>Petrol</td>\n",
       "    </tr>\n",
       "    <tr>\n",
       "      <th>1</th>\n",
       "      <td>Hyundai Grand i10 Nios</td>\n",
       "      <td>Grand i10 Nios</td>\n",
       "      <td>5</td>\n",
       "      <td>8.6</td>\n",
       "      <td>5.9</td>\n",
       "      <td>10.0</td>\n",
       "      <td>22.0</td>\n",
       "      <td>2.0</td>\n",
       "      <td>CNG</td>\n",
       "      <td>Petrol</td>\n",
       "    </tr>\n",
       "    <tr>\n",
       "      <th>2</th>\n",
       "      <td>Tata Tiago</td>\n",
       "      <td>Tiago</td>\n",
       "      <td>5</td>\n",
       "      <td>8.8</td>\n",
       "      <td>5.0</td>\n",
       "      <td>10.0</td>\n",
       "      <td>22.0</td>\n",
       "      <td>4.0</td>\n",
       "      <td>CNG</td>\n",
       "      <td>Petrol</td>\n",
       "    </tr>\n",
       "    <tr>\n",
       "      <th>3</th>\n",
       "      <td>Mahindra XUV 3XO</td>\n",
       "      <td>XUV 3XO</td>\n",
       "      <td>5</td>\n",
       "      <td>15.5</td>\n",
       "      <td>7.8</td>\n",
       "      <td>18.0</td>\n",
       "      <td>21.0</td>\n",
       "      <td>2.0</td>\n",
       "      <td>CNG</td>\n",
       "      <td>Petrol</td>\n",
       "    </tr>\n",
       "    <tr>\n",
       "      <th>4</th>\n",
       "      <td>Toyota Glanza</td>\n",
       "      <td>Glanza</td>\n",
       "      <td>5</td>\n",
       "      <td>10.0</td>\n",
       "      <td>6.9</td>\n",
       "      <td>22.0</td>\n",
       "      <td>22.0</td>\n",
       "      <td>2.0</td>\n",
       "      <td>CNG</td>\n",
       "      <td>Petrol</td>\n",
       "    </tr>\n",
       "    <tr>\n",
       "      <th>5</th>\n",
       "      <td>Kia Sonet</td>\n",
       "      <td>Sonet</td>\n",
       "      <td>5</td>\n",
       "      <td>15.8</td>\n",
       "      <td>8.0</td>\n",
       "      <td>18.0</td>\n",
       "      <td>22.0</td>\n",
       "      <td>2.0</td>\n",
       "      <td>CNG</td>\n",
       "      <td>Petrol</td>\n",
       "    </tr>\n",
       "    <tr>\n",
       "      <th>6</th>\n",
       "      <td>Honda Amaze</td>\n",
       "      <td>Amaze</td>\n",
       "      <td>5</td>\n",
       "      <td>10.9</td>\n",
       "      <td>8.0</td>\n",
       "      <td>18.0</td>\n",
       "      <td>19.0</td>\n",
       "      <td>2.0</td>\n",
       "      <td>CNG</td>\n",
       "      <td>Petrol</td>\n",
       "    </tr>\n",
       "    <tr>\n",
       "      <th>7</th>\n",
       "      <td>MG Comet EV</td>\n",
       "      <td>Comet EV</td>\n",
       "      <td>5</td>\n",
       "      <td>9.5</td>\n",
       "      <td>7.0</td>\n",
       "      <td>10.0</td>\n",
       "      <td>22.0</td>\n",
       "      <td>2.0</td>\n",
       "      <td>CNG</td>\n",
       "      <td>Petrol</td>\n",
       "    </tr>\n",
       "    <tr>\n",
       "      <th>8</th>\n",
       "      <td>Renault KWID</td>\n",
       "      <td>KWID</td>\n",
       "      <td>5</td>\n",
       "      <td>6.5</td>\n",
       "      <td>4.7</td>\n",
       "      <td>21.0</td>\n",
       "      <td>22.0</td>\n",
       "      <td>2.0</td>\n",
       "      <td>CNG</td>\n",
       "      <td>Petrol</td>\n",
       "    </tr>\n",
       "    <tr>\n",
       "      <th>9</th>\n",
       "      <td>Volkswagen Virtus</td>\n",
       "      <td>Virtus</td>\n",
       "      <td>5</td>\n",
       "      <td>19.4</td>\n",
       "      <td>11.6</td>\n",
       "      <td>10.0</td>\n",
       "      <td>22.0</td>\n",
       "      <td>5.0</td>\n",
       "      <td>CNG</td>\n",
       "      <td>Petrol</td>\n",
       "    </tr>\n",
       "  </tbody>\n",
       "</table>\n",
       "</div>"
      ],
      "text/plain": [
       "                      Name            Model  Seater  max_Price_in_Lakh  \\\n",
       "0   Maruti Suzuki Alto K10         Alto K10       5                6.0   \n",
       "1   Hyundai Grand i10 Nios   Grand i10 Nios       5                8.6   \n",
       "2               Tata Tiago            Tiago       5                8.8   \n",
       "3         Mahindra XUV 3XO          XUV 3XO       5               15.5   \n",
       "4            Toyota Glanza           Glanza       5               10.0   \n",
       "5                Kia Sonet            Sonet       5               15.8   \n",
       "6              Honda Amaze            Amaze       5               10.9   \n",
       "7              MG Comet EV         Comet EV       5                9.5   \n",
       "8             Renault KWID             KWID       5                6.5   \n",
       "9        Volkswagen Virtus           Virtus       5               19.4   \n",
       "\n",
       "   min_Price_in_Lakh  min_car_Mileage  max_car_Mileage  Safety_ratings  \\\n",
       "0                4.0             10.0             22.0             2.0   \n",
       "1                5.9             10.0             22.0             2.0   \n",
       "2                5.0             10.0             22.0             4.0   \n",
       "3                7.8             18.0             21.0             2.0   \n",
       "4                6.9             22.0             22.0             2.0   \n",
       "5                8.0             18.0             22.0             2.0   \n",
       "6                8.0             18.0             19.0             2.0   \n",
       "7                7.0             10.0             22.0             2.0   \n",
       "8                4.7             21.0             22.0             2.0   \n",
       "9               11.6             10.0             22.0             5.0   \n",
       "\n",
       "  fuel_type1 fuel_type2  \n",
       "0        CNG     Petrol  \n",
       "1        CNG     Petrol  \n",
       "2        CNG     Petrol  \n",
       "3        CNG     Petrol  \n",
       "4        CNG     Petrol  \n",
       "5        CNG     Petrol  \n",
       "6        CNG     Petrol  \n",
       "7        CNG     Petrol  \n",
       "8        CNG     Petrol  \n",
       "9        CNG     Petrol  "
      ]
     },
     "execution_count": 165,
     "metadata": {},
     "output_type": "execute_result"
    }
   ],
   "source": [
    "Cars_df.head(10)"
   ]
  },
  {
   "cell_type": "code",
   "execution_count": null,
   "id": "cfa69b93-d29a-41bd-9a9d-80f78d0373e9",
   "metadata": {},
   "outputs": [
    {
     "data": {
      "text/plain": [
       "Name                 0\n",
       "Model                0\n",
       "Seater               0\n",
       "max_Price_in_Lakh    0\n",
       "min_Price_in_Lakh    0\n",
       "min_car_Mileage      0\n",
       "max_car_Mileage      0\n",
       "Safety_ratings       0\n",
       "fuel_type1           0\n",
       "fuel_type2           0\n",
       "dtype: int64"
      ]
     },
     "execution_count": 167,
     "metadata": {},
     "output_type": "execute_result"
    }
   ],
   "source": [
    "Cars_df.isnull().sum()"
   ]
  },
  {
   "cell_type": "code",
   "execution_count": null,
   "id": "46cbf2dd-06c0-4698-843c-d8e75ad2d57b",
   "metadata": {},
   "outputs": [
    {
     "data": {
      "text/plain": [
       "Seater\n",
       "5    300\n",
       "4     40\n",
       "2     40\n",
       "7     20\n",
       "Name: count, dtype: Int64"
      ]
     },
     "execution_count": 169,
     "metadata": {},
     "output_type": "execute_result"
    }
   ],
   "source": [
    "Cars_df['Seater'].value_counts()"
   ]
  },
  {
   "cell_type": "code",
   "execution_count": null,
   "id": "447709c7-90cb-4b38-860d-d6626ece8018",
   "metadata": {},
   "outputs": [
    {
     "data": {
      "text/plain": [
       "max_Price_in_Lakh\n",
       "6.0     160\n",
       "32.4     10\n",
       "12.0     10\n",
       "70.0     10\n",
       "37.0     10\n",
       "48.5     10\n",
       "67.9     10\n",
       "11.4     10\n",
       "50.0     10\n",
       "29.9     10\n",
       "45.5     10\n",
       "51.9     10\n",
       "9.3      10\n",
       "8.6      10\n",
       "11.5     10\n",
       "14.4     10\n",
       "19.4     10\n",
       "6.5      10\n",
       "9.5      10\n",
       "10.9     10\n",
       "15.8     10\n",
       "10.0     10\n",
       "15.5     10\n",
       "8.8      10\n",
       "30.0     10\n",
       "Name: count, dtype: int64"
      ]
     },
     "execution_count": 171,
     "metadata": {},
     "output_type": "execute_result"
    }
   ],
   "source": [
    "Cars_df['max_Price_in_Lakh'].value_counts()"
   ]
  },
  {
   "cell_type": "code",
   "execution_count": null,
   "id": "57d5b057-0a23-4150-af2b-bf5d2c0a21e8",
   "metadata": {},
   "outputs": [
    {
     "data": {
      "text/plain": [
       "min_Price_in_Lakh\n",
       "8.0     170\n",
       "4.0      10\n",
       "43.9     10\n",
       "9.0      10\n",
       "60.0     10\n",
       "30.0     10\n",
       "45.8     10\n",
       "61.6     10\n",
       "10.6     10\n",
       "35.0     10\n",
       "26.9     10\n",
       "43.5     10\n",
       "19.0     10\n",
       "5.9      10\n",
       "6.2      10\n",
       "6.0      10\n",
       "7.9      10\n",
       "11.6     10\n",
       "4.7      10\n",
       "7.0      10\n",
       "6.9      10\n",
       "7.8      10\n",
       "5.0      10\n",
       "25.0     10\n",
       "Name: count, dtype: int64"
      ]
     },
     "execution_count": 173,
     "metadata": {},
     "output_type": "execute_result"
    }
   ],
   "source": [
    "Cars_df['min_Price_in_Lakh'].value_counts()"
   ]
  },
  {
   "cell_type": "code",
   "execution_count": null,
   "id": "2940f629-1e69-49c2-9022-4e8118991e49",
   "metadata": {},
   "outputs": [
    {
     "data": {
      "text/plain": [
       "min_car_Mileage\n",
       "10.0    290\n",
       "18.0     30\n",
       "17.0     20\n",
       "14.0     20\n",
       "22.0     10\n",
       "21.0     10\n",
       "15.0     10\n",
       "6.0      10\n",
       "Name: count, dtype: int64"
      ]
     },
     "execution_count": 175,
     "metadata": {},
     "output_type": "execute_result"
    }
   ],
   "source": [
    "Cars_df['min_car_Mileage'].value_counts()"
   ]
  },
  {
   "cell_type": "code",
   "execution_count": null,
   "id": "9ed2f2bc-4828-4658-acfc-b75c2bca469f",
   "metadata": {},
   "outputs": [
    {
     "data": {
      "text/plain": [
       "max_car_Mileage\n",
       "22.0    290\n",
       "19.0     20\n",
       "18.0     20\n",
       "21.0     10\n",
       "17.0     10\n",
       "12.0     10\n",
       "16.0     10\n",
       "14.0     10\n",
       "20.0     10\n",
       "10.0     10\n",
       "Name: count, dtype: int64"
      ]
     },
     "execution_count": 177,
     "metadata": {},
     "output_type": "execute_result"
    }
   ],
   "source": [
    "Cars_df['max_car_Mileage'].value_counts()"
   ]
  },
  {
   "cell_type": "code",
   "execution_count": null,
   "id": "9e46cadd-bfbf-45ac-99c0-7f7e3d4dc2e7",
   "metadata": {},
   "outputs": [
    {
     "data": {
      "text/plain": [
       "Safety_ratings\n",
       "2.0    380\n",
       "4.0     10\n",
       "5.0     10\n",
       "Name: count, dtype: int64"
      ]
     },
     "execution_count": 179,
     "metadata": {},
     "output_type": "execute_result"
    }
   ],
   "source": [
    "Cars_df['Safety_ratings'].value_counts()"
   ]
  },
  {
   "cell_type": "code",
   "execution_count": null,
   "id": "11713d79-b7f6-4f89-8a79-c17fc4d95bd5",
   "metadata": {},
   "outputs": [
    {
     "data": {
      "text/plain": [
       "fuel_type1\n",
       "CNG    400\n",
       "Name: count, dtype: int64"
      ]
     },
     "execution_count": 181,
     "metadata": {},
     "output_type": "execute_result"
    }
   ],
   "source": [
    "Cars_df['fuel_type1'].value_counts()"
   ]
  },
  {
   "cell_type": "code",
   "execution_count": null,
   "id": "c98dd1a6-5efa-4b6b-a000-f8402cab9716",
   "metadata": {},
   "outputs": [
    {
     "data": {
      "text/plain": [
       "fuel_type2\n",
       "Petrol    400\n",
       "Name: count, dtype: int64"
      ]
     },
     "execution_count": 183,
     "metadata": {},
     "output_type": "execute_result"
    }
   ],
   "source": [
    "Cars_df['fuel_type2'].value_counts()"
   ]
  },
  {
   "cell_type": "markdown",
   "id": "0a641e9d-b00b-4371-a26f-bf725abe34ea",
   "metadata": {},
   "source": [
    "### Information about the Data."
   ]
  },
  {
   "cell_type": "code",
   "execution_count": null,
   "id": "ea7ee1b2-4f7e-4a52-ba44-3353f8762bee",
   "metadata": {},
   "outputs": [
    {
     "data": {
      "text/html": [
       "<div>\n",
       "<style scoped>\n",
       "    .dataframe tbody tr th:only-of-type {\n",
       "        vertical-align: middle;\n",
       "    }\n",
       "\n",
       "    .dataframe tbody tr th {\n",
       "        vertical-align: top;\n",
       "    }\n",
       "\n",
       "    .dataframe thead th {\n",
       "        text-align: right;\n",
       "    }\n",
       "</style>\n",
       "<table border=\"1\" class=\"dataframe\">\n",
       "  <thead>\n",
       "    <tr style=\"text-align: right;\">\n",
       "      <th></th>\n",
       "      <th>Seater</th>\n",
       "      <th>max_Price_in_Lakh</th>\n",
       "      <th>min_Price_in_Lakh</th>\n",
       "      <th>min_car_Mileage</th>\n",
       "      <th>max_car_Mileage</th>\n",
       "      <th>Safety_ratings</th>\n",
       "    </tr>\n",
       "  </thead>\n",
       "  <tbody>\n",
       "    <tr>\n",
       "      <th>count</th>\n",
       "      <td>400.0</td>\n",
       "      <td>400.000000</td>\n",
       "      <td>400.000000</td>\n",
       "      <td>400.000000</td>\n",
       "      <td>400.000000</td>\n",
       "      <td>400.000000</td>\n",
       "    </tr>\n",
       "    <tr>\n",
       "      <th>mean</th>\n",
       "      <td>4.7</td>\n",
       "      <td>18.067500</td>\n",
       "      <td>15.482500</td>\n",
       "      <td>11.750000</td>\n",
       "      <td>20.550000</td>\n",
       "      <td>2.125000</td>\n",
       "    </tr>\n",
       "    <tr>\n",
       "      <th>std</th>\n",
       "      <td>1.054885</td>\n",
       "      <td>17.999532</td>\n",
       "      <td>15.321188</td>\n",
       "      <td>3.559378</td>\n",
       "      <td>2.918698</td>\n",
       "      <td>0.556911</td>\n",
       "    </tr>\n",
       "    <tr>\n",
       "      <th>min</th>\n",
       "      <td>2.0</td>\n",
       "      <td>6.000000</td>\n",
       "      <td>4.000000</td>\n",
       "      <td>6.000000</td>\n",
       "      <td>10.000000</td>\n",
       "      <td>2.000000</td>\n",
       "    </tr>\n",
       "    <tr>\n",
       "      <th>25%</th>\n",
       "      <td>5.0</td>\n",
       "      <td>6.000000</td>\n",
       "      <td>7.975000</td>\n",
       "      <td>10.000000</td>\n",
       "      <td>20.750000</td>\n",
       "      <td>2.000000</td>\n",
       "    </tr>\n",
       "    <tr>\n",
       "      <th>50%</th>\n",
       "      <td>5.0</td>\n",
       "      <td>9.400000</td>\n",
       "      <td>8.000000</td>\n",
       "      <td>10.000000</td>\n",
       "      <td>22.000000</td>\n",
       "      <td>2.000000</td>\n",
       "    </tr>\n",
       "    <tr>\n",
       "      <th>75%</th>\n",
       "      <td>5.0</td>\n",
       "      <td>22.025000</td>\n",
       "      <td>13.450000</td>\n",
       "      <td>11.000000</td>\n",
       "      <td>22.000000</td>\n",
       "      <td>2.000000</td>\n",
       "    </tr>\n",
       "    <tr>\n",
       "      <th>max</th>\n",
       "      <td>7.0</td>\n",
       "      <td>70.000000</td>\n",
       "      <td>61.600000</td>\n",
       "      <td>22.000000</td>\n",
       "      <td>22.000000</td>\n",
       "      <td>5.000000</td>\n",
       "    </tr>\n",
       "  </tbody>\n",
       "</table>\n",
       "</div>"
      ],
      "text/plain": [
       "         Seater  max_Price_in_Lakh  min_Price_in_Lakh  min_car_Mileage  \\\n",
       "count     400.0         400.000000         400.000000       400.000000   \n",
       "mean        4.7          18.067500          15.482500        11.750000   \n",
       "std    1.054885          17.999532          15.321188         3.559378   \n",
       "min         2.0           6.000000           4.000000         6.000000   \n",
       "25%         5.0           6.000000           7.975000        10.000000   \n",
       "50%         5.0           9.400000           8.000000        10.000000   \n",
       "75%         5.0          22.025000          13.450000        11.000000   \n",
       "max         7.0          70.000000          61.600000        22.000000   \n",
       "\n",
       "       max_car_Mileage  Safety_ratings  \n",
       "count       400.000000      400.000000  \n",
       "mean         20.550000        2.125000  \n",
       "std           2.918698        0.556911  \n",
       "min          10.000000        2.000000  \n",
       "25%          20.750000        2.000000  \n",
       "50%          22.000000        2.000000  \n",
       "75%          22.000000        2.000000  \n",
       "max          22.000000        5.000000  "
      ]
     },
     "execution_count": 186,
     "metadata": {},
     "output_type": "execute_result"
    }
   ],
   "source": [
    "Cars_df.describe()"
   ]
  },
  {
   "cell_type": "code",
   "execution_count": null,
   "id": "39ddd9c2-af3a-401e-b5f7-831237edec01",
   "metadata": {},
   "outputs": [
    {
     "data": {
      "text/html": [
       "<div>\n",
       "<style scoped>\n",
       "    .dataframe tbody tr th:only-of-type {\n",
       "        vertical-align: middle;\n",
       "    }\n",
       "\n",
       "    .dataframe tbody tr th {\n",
       "        vertical-align: top;\n",
       "    }\n",
       "\n",
       "    .dataframe thead th {\n",
       "        text-align: right;\n",
       "    }\n",
       "</style>\n",
       "<table border=\"1\" class=\"dataframe\">\n",
       "  <thead>\n",
       "    <tr style=\"text-align: right;\">\n",
       "      <th></th>\n",
       "      <th>Name</th>\n",
       "      <th>Model</th>\n",
       "      <th>Seater</th>\n",
       "      <th>max_Price_in_Lakh</th>\n",
       "      <th>min_Price_in_Lakh</th>\n",
       "      <th>min_car_Mileage</th>\n",
       "      <th>max_car_Mileage</th>\n",
       "      <th>Safety_ratings</th>\n",
       "      <th>fuel_type1</th>\n",
       "      <th>fuel_type2</th>\n",
       "    </tr>\n",
       "  </thead>\n",
       "  <tbody>\n",
       "    <tr>\n",
       "      <th>count</th>\n",
       "      <td>400</td>\n",
       "      <td>400</td>\n",
       "      <td>400.0</td>\n",
       "      <td>400.000000</td>\n",
       "      <td>400.000000</td>\n",
       "      <td>400.000000</td>\n",
       "      <td>400.000000</td>\n",
       "      <td>400.000000</td>\n",
       "      <td>400</td>\n",
       "      <td>400</td>\n",
       "    </tr>\n",
       "    <tr>\n",
       "      <th>unique</th>\n",
       "      <td>40</td>\n",
       "      <td>40</td>\n",
       "      <td>&lt;NA&gt;</td>\n",
       "      <td>NaN</td>\n",
       "      <td>NaN</td>\n",
       "      <td>NaN</td>\n",
       "      <td>NaN</td>\n",
       "      <td>NaN</td>\n",
       "      <td>1</td>\n",
       "      <td>1</td>\n",
       "    </tr>\n",
       "    <tr>\n",
       "      <th>top</th>\n",
       "      <td>Maruti Suzuki Alto K10</td>\n",
       "      <td>Alto K10</td>\n",
       "      <td>&lt;NA&gt;</td>\n",
       "      <td>NaN</td>\n",
       "      <td>NaN</td>\n",
       "      <td>NaN</td>\n",
       "      <td>NaN</td>\n",
       "      <td>NaN</td>\n",
       "      <td>CNG</td>\n",
       "      <td>Petrol</td>\n",
       "    </tr>\n",
       "    <tr>\n",
       "      <th>freq</th>\n",
       "      <td>10</td>\n",
       "      <td>10</td>\n",
       "      <td>&lt;NA&gt;</td>\n",
       "      <td>NaN</td>\n",
       "      <td>NaN</td>\n",
       "      <td>NaN</td>\n",
       "      <td>NaN</td>\n",
       "      <td>NaN</td>\n",
       "      <td>400</td>\n",
       "      <td>400</td>\n",
       "    </tr>\n",
       "    <tr>\n",
       "      <th>mean</th>\n",
       "      <td>NaN</td>\n",
       "      <td>NaN</td>\n",
       "      <td>4.7</td>\n",
       "      <td>18.067500</td>\n",
       "      <td>15.482500</td>\n",
       "      <td>11.750000</td>\n",
       "      <td>20.550000</td>\n",
       "      <td>2.125000</td>\n",
       "      <td>NaN</td>\n",
       "      <td>NaN</td>\n",
       "    </tr>\n",
       "    <tr>\n",
       "      <th>std</th>\n",
       "      <td>NaN</td>\n",
       "      <td>NaN</td>\n",
       "      <td>1.054885</td>\n",
       "      <td>17.999532</td>\n",
       "      <td>15.321188</td>\n",
       "      <td>3.559378</td>\n",
       "      <td>2.918698</td>\n",
       "      <td>0.556911</td>\n",
       "      <td>NaN</td>\n",
       "      <td>NaN</td>\n",
       "    </tr>\n",
       "    <tr>\n",
       "      <th>min</th>\n",
       "      <td>NaN</td>\n",
       "      <td>NaN</td>\n",
       "      <td>2.0</td>\n",
       "      <td>6.000000</td>\n",
       "      <td>4.000000</td>\n",
       "      <td>6.000000</td>\n",
       "      <td>10.000000</td>\n",
       "      <td>2.000000</td>\n",
       "      <td>NaN</td>\n",
       "      <td>NaN</td>\n",
       "    </tr>\n",
       "    <tr>\n",
       "      <th>25%</th>\n",
       "      <td>NaN</td>\n",
       "      <td>NaN</td>\n",
       "      <td>5.0</td>\n",
       "      <td>6.000000</td>\n",
       "      <td>7.975000</td>\n",
       "      <td>10.000000</td>\n",
       "      <td>20.750000</td>\n",
       "      <td>2.000000</td>\n",
       "      <td>NaN</td>\n",
       "      <td>NaN</td>\n",
       "    </tr>\n",
       "    <tr>\n",
       "      <th>50%</th>\n",
       "      <td>NaN</td>\n",
       "      <td>NaN</td>\n",
       "      <td>5.0</td>\n",
       "      <td>9.400000</td>\n",
       "      <td>8.000000</td>\n",
       "      <td>10.000000</td>\n",
       "      <td>22.000000</td>\n",
       "      <td>2.000000</td>\n",
       "      <td>NaN</td>\n",
       "      <td>NaN</td>\n",
       "    </tr>\n",
       "    <tr>\n",
       "      <th>75%</th>\n",
       "      <td>NaN</td>\n",
       "      <td>NaN</td>\n",
       "      <td>5.0</td>\n",
       "      <td>22.025000</td>\n",
       "      <td>13.450000</td>\n",
       "      <td>11.000000</td>\n",
       "      <td>22.000000</td>\n",
       "      <td>2.000000</td>\n",
       "      <td>NaN</td>\n",
       "      <td>NaN</td>\n",
       "    </tr>\n",
       "    <tr>\n",
       "      <th>max</th>\n",
       "      <td>NaN</td>\n",
       "      <td>NaN</td>\n",
       "      <td>7.0</td>\n",
       "      <td>70.000000</td>\n",
       "      <td>61.600000</td>\n",
       "      <td>22.000000</td>\n",
       "      <td>22.000000</td>\n",
       "      <td>5.000000</td>\n",
       "      <td>NaN</td>\n",
       "      <td>NaN</td>\n",
       "    </tr>\n",
       "  </tbody>\n",
       "</table>\n",
       "</div>"
      ],
      "text/plain": [
       "                           Name      Model    Seater  max_Price_in_Lakh  \\\n",
       "count                       400        400     400.0         400.000000   \n",
       "unique                       40         40      <NA>                NaN   \n",
       "top      Maruti Suzuki Alto K10   Alto K10      <NA>                NaN   \n",
       "freq                         10         10      <NA>                NaN   \n",
       "mean                        NaN        NaN       4.7          18.067500   \n",
       "std                         NaN        NaN  1.054885          17.999532   \n",
       "min                         NaN        NaN       2.0           6.000000   \n",
       "25%                         NaN        NaN       5.0           6.000000   \n",
       "50%                         NaN        NaN       5.0           9.400000   \n",
       "75%                         NaN        NaN       5.0          22.025000   \n",
       "max                         NaN        NaN       7.0          70.000000   \n",
       "\n",
       "        min_Price_in_Lakh  min_car_Mileage  max_car_Mileage  Safety_ratings  \\\n",
       "count          400.000000       400.000000       400.000000      400.000000   \n",
       "unique                NaN              NaN              NaN             NaN   \n",
       "top                   NaN              NaN              NaN             NaN   \n",
       "freq                  NaN              NaN              NaN             NaN   \n",
       "mean            15.482500        11.750000        20.550000        2.125000   \n",
       "std             15.321188         3.559378         2.918698        0.556911   \n",
       "min              4.000000         6.000000        10.000000        2.000000   \n",
       "25%              7.975000        10.000000        20.750000        2.000000   \n",
       "50%              8.000000        10.000000        22.000000        2.000000   \n",
       "75%             13.450000        11.000000        22.000000        2.000000   \n",
       "max             61.600000        22.000000        22.000000        5.000000   \n",
       "\n",
       "       fuel_type1 fuel_type2  \n",
       "count         400        400  \n",
       "unique          1          1  \n",
       "top           CNG     Petrol  \n",
       "freq          400        400  \n",
       "mean          NaN        NaN  \n",
       "std           NaN        NaN  \n",
       "min           NaN        NaN  \n",
       "25%           NaN        NaN  \n",
       "50%           NaN        NaN  \n",
       "75%           NaN        NaN  \n",
       "max           NaN        NaN  "
      ]
     },
     "execution_count": 188,
     "metadata": {},
     "output_type": "execute_result"
    }
   ],
   "source": [
    "Cars_df.describe(include = 'all')"
   ]
  },
  {
   "cell_type": "markdown",
   "id": "be3c0af0-f2b8-4aef-950b-58267752b7f8",
   "metadata": {},
   "source": [
    "### EXPLORATORT DATA ANALYSIS"
   ]
  },
  {
   "cell_type": "markdown",
   "id": "0c318886-96c4-4afc-b739-5b512eb68f1f",
   "metadata": {},
   "source": [
    "## univariate analysis\n"
   ]
  },
  {
   "cell_type": "markdown",
   "id": "57f9325b-03f1-4515-a121-64f1279ffddb",
   "metadata": {},
   "source": [
    "### Categorical data (qualitative)"
   ]
  },
  {
   "cell_type": "markdown",
   "id": "af23d3bf-6da8-4c8b-890c-2384621b08e8",
   "metadata": {},
   "source": [
    "### Required libraries for ploting the graphs."
   ]
  },
  {
   "cell_type": "code",
   "execution_count": null,
   "id": "d0eaa05b-2c18-463f-981b-72a6e99714a9",
   "metadata": {},
   "outputs": [],
   "source": [
    "import matplotlib.pyplot as plt\n",
    "import seaborn as sns"
   ]
  },
  {
   "cell_type": "code",
   "execution_count": null,
   "id": "79f5e7ad-1d0a-4835-8578-7dd1ec818490",
   "metadata": {},
   "outputs": [
    {
     "data": {
      "image/png": "[encoded data removed]",
      "text/plain": [
       "<Figure size 640x480 with 1 Axes>"
      ]
     },
     "metadata": {},
     "output_type": "display_data"
    }
   ],
   "source": [
    "# Bar graph\n",
    "Cars_df['Seater'].value_counts().plot(kind='bar',color = 'red')\n",
    "plt.title('Bar chart')\n",
    "plt.show()"
   ]
  },
  {
   "cell_type": "code",
   "execution_count": null,
   "id": "30b7d8f2-e44a-43ac-bbab-382ec9cc6512",
   "metadata": {},
   "outputs": [
    {
     "data": {
      "text/plain": [
       "Seater\n",
       "5    300\n",
       "4     40\n",
       "2     40\n",
       "7     20\n",
       "Name: count, dtype: Int64"
      ]
     },
     "execution_count": 196,
     "metadata": {},
     "output_type": "execute_result"
    }
   ],
   "source": [
    "Cars_df['Seater'].value_counts()"
   ]
  },
  {
   "cell_type": "code",
   "execution_count": null,
   "id": "41a8d005-0e72-45a0-a0f4-be5746d59a72",
   "metadata": {},
   "outputs": [
    {
     "data": {
      "image/png": "[encoded data removed]",
      "text/plain": [
       "<Figure size 640x480 with 1 Axes>"
      ]
     },
     "metadata": {},
     "output_type": "display_data"
    }
   ],
   "source": [
    "# Pie chart\n",
    "plt.pie(Cars_df['Seater'].value_counts(),autopct='%1.1f%%',startangle=90)\n",
    "plt.legend(Cars_df['Seater'].value_counts(), title=\"seaters\", loc=\"upper right\")\n",
    "plt.title(\"pie chart\")\n",
    "plt.show()"
   ]
  },
  {
   "cell_type": "markdown",
   "id": "80765f02-eace-49e0-bcbb-5b149d542305",
   "metadata": {},
   "source": [
    "### numerical data (quantitative)"
   ]
  },
  {
   "cell_type": "code",
   "execution_count": null,
   "id": "d6496250-31f3-4a0e-8007-9ac91d75d364",
   "metadata": {},
   "outputs": [
    {
     "data": {
      "image/png": "[encoded data removed]",
      "text/plain": [
       "<Figure size 640x480 with 1 Axes>"
      ]
     },
     "metadata": {},
     "output_type": "display_data"
    }
   ],
   "source": [
    "# Histogram with grids.\n",
    "Cars_df.max_Price_in_Lakh.hist()\n",
    "plt.title(\"Cars_max_Price_in_Lakh\")\n",
    "plt.show()"
   ]
  },
  {
   "cell_type": "code",
   "execution_count": null,
   "id": "adcb7574-71e0-41e9-96bc-30e9a1fc3714",
   "metadata": {},
   "outputs": [
    {
     "data": {
      "image/png": "[encoded data removed]",
      "text/plain": [
       "<Figure size 640x480 with 1 Axes>"
      ]
     },
     "metadata": {},
     "output_type": "display_data"
    }
   ],
   "source": [
    "# Histogram\n",
    "Cars_df['max_Price_in_Lakh'].plot(kind='hist',bins = 5,edgecolor='orange')\n",
    "plt.xlabel('max_Price_in_Lakh')\n",
    "plt.title(\"histogram\")\n",
    "plt.show()"
   ]
  },
  {
   "cell_type": "code",
   "execution_count": null,
   "id": "db27dda5-1a6c-44f0-8f82-211c65719b29",
   "metadata": {},
   "outputs": [
    {
     "data": {
      "image/png": "[encoded data removed]",
      "text/plain": [
       "<Figure size 640x480 with 1 Axes>"
      ]
     },
     "metadata": {},
     "output_type": "display_data"
    }
   ],
   "source": [
    "# Box plot\n",
    "Cars_df['min_Price_in_Lakh'].plot(kind='box')\n",
    "plt.title(\"box plot\")\n",
    "plt.show()"
   ]
  },
  {
   "cell_type": "code",
   "execution_count": null,
   "id": "9ede332b-c4ea-41bd-9218-27033594b880",
   "metadata": {},
   "outputs": [
    {
     "data": {
      "image/png": "[encoded data removed]",
      "text/plain": [
       "<Figure size 640x480 with 1 Axes>"
      ]
     },
     "metadata": {},
     "output_type": "display_data"
    }
   ],
   "source": [
    "# Violin plot\n",
    "sns.violinplot(Cars_df[\"Safety_ratings\"])\n",
    "plt.title(\"violin plot\")\n",
    "plt.show()"
   ]
  },
  {
   "cell_type": "markdown",
   "id": "fdd84963-bac9-43d5-bb2a-8f349d42137d",
   "metadata": {},
   "source": [
    "## bivariate analysis"
   ]
  },
  {
   "cell_type": "markdown",
   "id": "c8319743-d230-4de0-86e8-9e9e25d0bab7",
   "metadata": {},
   "source": [
    "### Continuous  and Categorical variables (groupby, pivot table)"
   ]
  },
  {
   "cell_type": "code",
   "execution_count": null,
   "id": "42a18788-3790-4093-94f1-fa0f373b8f9d",
   "metadata": {},
   "outputs": [
    {
     "data": {
      "text/plain": [
       "Seater\n",
       "2    11.4\n",
       "4     6.0\n",
       "5    70.0\n",
       "7    50.0\n",
       "Name: max_Price_in_Lakh, dtype: float64"
      ]
     },
     "execution_count": 213,
     "metadata": {},
     "output_type": "execute_result"
    }
   ],
   "source": [
    "group = Cars_df.groupby(by = 'Seater')['max_Price_in_Lakh'].max()\n",
    "group"
   ]
  },
  {
   "cell_type": "code",
   "execution_count": null,
   "id": "32861f8e-119b-4b17-81cd-bc2e3add494e",
   "metadata": {},
   "outputs": [
    {
     "data": {
      "image/png": "[encoded data removed]",
      "text/plain": [
       "<Figure size 640x480 with 1 Axes>"
      ]
     },
     "metadata": {},
     "output_type": "display_data"
    }
   ],
   "source": [
    "# Box plot\n",
    "sns.boxplot(x=Cars_df['Seater'], y=Cars_df['max_Price_in_Lakh'])\n",
    "plt.title(\"box plot\")\n",
    "plt.show()"
   ]
  },
  {
   "cell_type": "code",
   "execution_count": null,
   "id": "a65e99ef-b8db-4707-8d20-fa3bc9ec99fe",
   "metadata": {},
   "outputs": [
    {
     "data": {
      "text/html": [
       "<div>\n",
       "<style scoped>\n",
       "    .dataframe tbody tr th:only-of-type {\n",
       "        vertical-align: middle;\n",
       "    }\n",
       "\n",
       "    .dataframe tbody tr th {\n",
       "        vertical-align: top;\n",
       "    }\n",
       "\n",
       "    .dataframe thead th {\n",
       "        text-align: right;\n",
       "    }\n",
       "</style>\n",
       "<table border=\"1\" class=\"dataframe\">\n",
       "  <thead>\n",
       "    <tr style=\"text-align: right;\">\n",
       "      <th>max_car_Mileage</th>\n",
       "      <th>10.0</th>\n",
       "      <th>12.0</th>\n",
       "      <th>14.0</th>\n",
       "      <th>16.0</th>\n",
       "      <th>17.0</th>\n",
       "      <th>18.0</th>\n",
       "      <th>19.0</th>\n",
       "      <th>20.0</th>\n",
       "      <th>21.0</th>\n",
       "      <th>22.0</th>\n",
       "    </tr>\n",
       "  </thead>\n",
       "  <tbody>\n",
       "    <tr>\n",
       "      <th>max_Price_in_Lakh</th>\n",
       "      <td>6.0</td>\n",
       "      <td>6.0</td>\n",
       "      <td>6.0</td>\n",
       "      <td>11.4</td>\n",
       "      <td>32.4</td>\n",
       "      <td>29.95</td>\n",
       "      <td>11.2</td>\n",
       "      <td>48.5</td>\n",
       "      <td>15.5</td>\n",
       "      <td>17.744828</td>\n",
       "    </tr>\n",
       "  </tbody>\n",
       "</table>\n",
       "</div>"
      ],
      "text/plain": [
       "max_car_Mileage    10.0  12.0  14.0  16.0  17.0   18.0  19.0  20.0  21.0  \\\n",
       "max_Price_in_Lakh   6.0   6.0   6.0  11.4  32.4  29.95  11.2  48.5  15.5   \n",
       "\n",
       "max_car_Mileage         22.0  \n",
       "max_Price_in_Lakh  17.744828  "
      ]
     },
     "execution_count": 217,
     "metadata": {},
     "output_type": "execute_result"
    }
   ],
   "source": [
    "Cars_df.pivot_table(values='max_Price_in_Lakh',columns='max_car_Mileage',aggfunc='mean')"
   ]
  },
  {
   "cell_type": "code",
   "execution_count": null,
   "id": "4ddf457b-ffcc-4b3b-8036-928d446dda13",
   "metadata": {},
   "outputs": [
    {
     "data": {
      "image/png": "[encoded data removed]",
      "text/plain": [
       "<Figure size 640x480 with 1 Axes>"
      ]
     },
     "metadata": {},
     "output_type": "display_data"
    }
   ],
   "source": [
    "# Bar plot\n",
    "sns.barplot(x=Cars_df['max_car_Mileage'],y=Cars_df['max_Price_in_Lakh'])\n",
    "plt.title(\"bar plot\")\n",
    "plt.show()"
   ]
  },
  {
   "cell_type": "code",
   "execution_count": null,
   "id": "df3ff81e-9ce0-4aa2-b3bc-ef40a2926a20",
   "metadata": {},
   "outputs": [
    {
     "data": {
      "image/png": "[encoded data removed]",
      "text/plain": [
       "<Figure size 640x480 with 1 Axes>"
      ]
     },
     "metadata": {},
     "output_type": "display_data"
    }
   ],
   "source": [
    "# Line graph\n",
    "sns.lineplot(x=Cars_df['max_car_Mileage'],y=Cars_df['Safety_ratings'])\n",
    "plt.title(\"line graph\")\n",
    "plt.show()"
   ]
  },
  {
   "cell_type": "markdown",
   "id": "e4f2db2b-c5b7-4e5d-9c02-37fecdd39d3d",
   "metadata": {},
   "source": [
    "## Continuous  to Continuous variable  (correlation plot) "
   ]
  },
  {
   "cell_type": "code",
   "execution_count": null,
   "id": "839a753f-2923-4205-9a3f-d73abb6bb15d",
   "metadata": {},
   "outputs": [
    {
     "data": {
      "text/html": [
       "<div>\n",
       "<style scoped>\n",
       "    .dataframe tbody tr th:only-of-type {\n",
       "        vertical-align: middle;\n",
       "    }\n",
       "\n",
       "    .dataframe tbody tr th {\n",
       "        vertical-align: top;\n",
       "    }\n",
       "\n",
       "    .dataframe thead th {\n",
       "        text-align: right;\n",
       "    }\n",
       "</style>\n",
       "<table border=\"1\" class=\"dataframe\">\n",
       "  <thead>\n",
       "    <tr style=\"text-align: right;\">\n",
       "      <th></th>\n",
       "      <th>min_Price_in_Lakh</th>\n",
       "      <th>min_car_Mileage</th>\n",
       "    </tr>\n",
       "  </thead>\n",
       "  <tbody>\n",
       "    <tr>\n",
       "      <th>min_Price_in_Lakh</th>\n",
       "      <td>1.000000</td>\n",
       "      <td>-0.063778</td>\n",
       "    </tr>\n",
       "    <tr>\n",
       "      <th>min_car_Mileage</th>\n",
       "      <td>-0.063778</td>\n",
       "      <td>1.000000</td>\n",
       "    </tr>\n",
       "  </tbody>\n",
       "</table>\n",
       "</div>"
      ],
      "text/plain": [
       "                   min_Price_in_Lakh  min_car_Mileage\n",
       "min_Price_in_Lakh           1.000000        -0.063778\n",
       "min_car_Mileage            -0.063778         1.000000"
      ]
     },
     "execution_count": 224,
     "metadata": {},
     "output_type": "execute_result"
    }
   ],
   "source": [
    "Cars_df[[\"min_Price_in_Lakh\",\"min_car_Mileage\"]].corr()"
   ]
  },
  {
   "cell_type": "code",
   "execution_count": null,
   "id": "a1336b22-efdb-4d8f-8a1f-375b265ede79",
   "metadata": {},
   "outputs": [
    {
     "data": {
      "image/png": "[encoded data removed]",
      "text/plain": [
       "<Figure size 640x480 with 1 Axes>"
      ]
     },
     "metadata": {},
     "output_type": "display_data"
    }
   ],
   "source": [
    "# Scatter plot\n",
    "plt.scatter(Cars_df[\"min_Price_in_Lakh\"],Cars_df[\"min_car_Mileage\"])\n",
    "plt.xlabel(\"min_Price_in_Lakh\")\n",
    "plt.ylabel(\"min_car_Mileage\")\n",
    "plt.title(\"scatter plot\")\n",
    "plt.show()"
   ]
  },
  {
   "cell_type": "code",
   "execution_count": null,
   "id": "25357cf0-06d9-422d-8357-54b6906e77fd",
   "metadata": {},
   "outputs": [
    {
     "data": {
      "image/png": "[encoded data removed]",
      "text/plain": [
       "<Figure size 500x500 with 6 Axes>"
      ]
     },
     "metadata": {},
     "output_type": "display_data"
    }
   ],
   "source": [
    "# Pair plot\n",
    "sns.pairplot(data = Cars_df, vars = [\"min_Price_in_Lakh\",\"Safety_ratings\"])\n",
    "plt.title(\"pair plot\")\n",
    "plt.show()"
   ]
  },
  {
   "cell_type": "code",
   "execution_count": null,
   "id": "4d9b8f6b-8a3d-4444-9ceb-744dee9bef9e",
   "metadata": {},
   "outputs": [
    {
     "data": {
      "image/png": "[encoded data removed]",
      "text/plain": [
       "<Figure size 640x480 with 2 Axes>"
      ]
     },
     "metadata": {},
     "output_type": "display_data"
    }
   ],
   "source": [
    "# Heat map\n",
    "sns.heatmap(Cars_df[[\"Seater\",\"Safety_ratings\"]].corr(),annot = True)\n",
    "plt.title(\"heat map\")\n",
    "plt.show()"
   ]
  },
  {
   "cell_type": "code",
   "execution_count": null,
   "id": "90912256-a496-44c4-8ff6-a69352e8dcc4",
   "metadata": {},
   "outputs": [
    {
     "data": {
      "image/png": "[encoded data removed]",
      "text/plain": [
       "<Figure size 640x480 with 1 Axes>"
      ]
     },
     "metadata": {},
     "output_type": "display_data"
    }
   ],
   "source": [
    "# Line graph\n",
    "sns.lineplot(x=Cars_df[\"Seater\"],y=Cars_df[\"Safety_ratings\"])\n",
    "plt.title(\"line plot\")\n",
    "plt.show()"
   ]
  },
  {
   "cell_type": "markdown",
   "id": "3b3f252b-3d63-41cc-85db-d726f32ac8e3",
   "metadata": {},
   "source": [
    "### Categorical to Categorical variables  (crosstab) \n"
   ]
  },
  {
   "cell_type": "code",
   "execution_count": null,
   "id": "c0f9b1cf-aad8-41a0-9480-dde5cac3e363",
   "metadata": {},
   "outputs": [],
   "source": [
    "cc = pd.crosstab(Cars_df[\"Seater\"],Cars_df[\"Model\"])"
   ]
  },
  {
   "cell_type": "code",
   "execution_count": null,
   "id": "abba5902-0a0b-4cb6-86e1-b1c9764d332e",
   "metadata": {},
   "outputs": [
    {
     "data": {
      "image/png": "[encoded data removed]",
      "text/plain": [
       "<Figure size 640x480 with 1 Axes>"
      ]
     },
     "metadata": {},
     "output_type": "display_data"
    }
   ],
   "source": [
    "# Stacked bar\n",
    "cc.plot(kind='bar',stacked=True)\n",
    "plt.title(\"stacked bar\")\n",
    "plt.show()"
   ]
  },
  {
   "cell_type": "markdown",
   "id": "8824d5b8-92b6-4255-a033-eeb5bbb46f16",
   "metadata": {},
   "source": [
    "## multivariate analysis"
   ]
  },
  {
   "cell_type": "code",
   "execution_count": null,
   "id": "5cf601f0-c9d4-443a-8065-9035dd3be83b",
   "metadata": {},
   "outputs": [
    {
     "data": {
      "image/png": "[encoded data removed]",
      "text/plain": [
       "<Figure size 750x750 with 12 Axes>"
      ]
     },
     "metadata": {},
     "output_type": "display_data"
    }
   ],
   "source": [
    "# Pair plot\n",
    "sns.pairplot(data= Cars_df, vars = [\"max_Price_in_Lakh\",\"max_car_Mileage\",\"Seater\"])\n",
    "plt.title(\"pair plot\")\n",
    "plt.show()"
   ]
  },
  {
   "cell_type": "code",
   "execution_count": null,
   "id": "3e0525ff-2535-4f3f-8a4a-ae4969c92a15",
   "metadata": {},
   "outputs": [
    {
     "data": {
      "image/png": "[encoded data removed]",
      "text/plain": [
       "<Figure size 640x480 with 1 Axes>"
      ]
     },
     "metadata": {},
     "output_type": "display_data"
    }
   ],
   "source": [
    "# Multiple line chart\n",
    "sns.lineplot(x=Cars_df[\"Seater\"],y=Cars_df[\"max_Price_in_Lakh\"],hue=Cars_df[\"Safety_ratings\"])\n",
    "plt.title(\"multiple line chart\")\n",
    "plt.show()"
   ]
  },
  {
   "cell_type": "code",
   "execution_count": null,
   "id": "05d4d4b1-a4fb-44b2-83f2-a06148100473",
   "metadata": {},
   "outputs": [
    {
     "data": {
      "image/png": "[encoded data removed]",
      "text/plain": [
       "<Figure size 640x480 with 1 Axes>"
      ]
     },
     "metadata": {},
     "output_type": "display_data"
    }
   ],
   "source": [
    "# Scatter plot\n",
    "sns.scatterplot(x=Cars_df[\"Seater\"],y=Cars_df[\"max_Price_in_Lakh\"],hue=Cars_df[\"Safety_ratings\"])\n",
    "plt.title(\"scatter plot\")\n",
    "plt.show()"
   ]
  },
  {
   "cell_type": "code",
   "execution_count": null,
   "id": "edc9a40b-19b7-4d17-940a-7aac3b441a03",
   "metadata": {},
   "outputs": [
    {
     "data": {
      "image/png": "[encoded data removed]",
      "text/plain": [
       "<Figure size 640x480 with 1 Axes>"
      ]
     },
     "metadata": {},
     "output_type": "display_data"
    }
   ],
   "source": [
    "# Box plot\n",
    "sns.boxplot(x=Cars_df[\"Seater\"],y=Cars_df[\"max_Price_in_Lakh\"],hue=Cars_df[\"Safety_ratings\"])\n",
    "plt.title(\"box plot\")\n",
    "plt.show()"
   ]
  },
  {
   "attachments": {},
   "cell_type": "markdown",
   "id": "ae4160f0-dd67-4661-859e-b46223bac8b0",
   "metadata": {},
   "source": [
    "### The analysis reveals that several key factors significantly influence the pricing of used cars.\n"
   ]
  }
 ],
 "metadata": {
  "kernelspec": {
   "display_name": "Python 3",
   "language": "python",
   "name": "python3"
  },
  "language_info": {
   "codemirror_mode": {
    "name": "ipython",
    "version": 3
   },
   "file_extension": ".py",
   "mimetype": "text/x-python",
   "name": "python",
   "nbconvert_exporter": "python",
   "pygments_lexer": "ipython3",
   "version": "3.13.2"
  }
 },
 "nbformat": 4,
 "nbformat_minor": 5
}
